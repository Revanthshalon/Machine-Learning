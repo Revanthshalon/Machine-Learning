{
  "nbformat": 4,
  "nbformat_minor": 0,
  "metadata": {
    "colab": {
      "name": "Stats.ipynb",
      "provenance": [],
      "collapsed_sections": []
    },
    "kernelspec": {
      "name": "python3",
      "display_name": "Python 3"
    }
  },
  "cells": [
    {
      "cell_type": "markdown",
      "metadata": {
        "id": "CZEZXdq3NuHu",
        "colab_type": "text"
      },
      "source": [
        "# Basic Concepts of Statistics"
      ]
    },
    {
      "cell_type": "markdown",
      "metadata": {
        "id": "waChdyIFWxg7",
        "colab_type": "text"
      },
      "source": [
        "## Mean, Variance and Standard Deviation\n",
        "---"
      ]
    },
    {
      "cell_type": "markdown",
      "metadata": {
        "id": "ecvpB59zWzLy",
        "colab_type": "text"
      },
      "source": [
        "Lets say we have a set of Numbers, the mean or average is one number which best represents all of the data points.\n",
        "\n",
        "---\n",
        "***Mean*** is often used to summarise the data.\n",
        "\n",
        "$\\bar{X} = \\frac{x_1+x_2+...+x_n}{n}$\n",
        "\n",
        "There are other important characteristics of the data that we might want to know as well,such as ***Range,Variance,Standard Deviation***\n",
        "\n",
        "---\n",
        "\n",
        "$Range = X_{max}-X_{min}$\n",
        "\n",
        "***Range*** completly ignore the mean and is susceptible to outliers data. This is where ***variance*** comes in.\n",
        "\n",
        "---\n",
        "\n",
        "***Variance*** tries to capture the variation in the data, by also taking into account the average of the data points.\n",
        "\n",
        "$Mean Deviation = X_i - \\bar{X}$\n",
        "\n",
        "$Variance = \\frac{\\sum_{0}^{n}(X_i-\\bar{X})^2}{n} $\n",
        "\n",
        "We can improve our estimate of the variance by tweaking the denominator - this is called Bessel's Correction.\n",
        "\n",
        "$Variance = \\frac{\\sum_{0}^{n}(X_i-\\bar{X})^2}{n-1}$ with Bessel's Correction\n",
        "\n",
        "---\n",
        "\n",
        "***Standard Deviation*** is the square root of Variance. The Standard Deviation is of the same scale and hence easier to compare rather than variance.\n",
        "\n",
        "$Standard Deviation = \\sqrt\\frac{\\sum_{0}^{n}(X_i-\\bar{X})^2}{n-1}$\n",
        "\n",
        "---\n",
        "***Gaussian Distribution***\n",
        "\n",
        "- Around 68% of the data points will lie within one standard devtiation of the mean.\n",
        "- 95% of the data points are within two standard deviations of the mean.\n",
        "- 99% of the data points are within three standard deviations of the mean.\n",
        "- Standard deviation for a normal curve would give us the info of how spread out our data is.\n",
        "- If the Standard Deviation is small, or when there are very few points away from the mean, the normal curve looks thin and tall.\n",
        "- If the Standard Deviation is huge, then there are many points that are far from the mean and the normal curve tends to be spread out.\n",
        "---\n"
      ]
    },
    {
      "cell_type": "markdown",
      "metadata": {
        "id": "qpi-T4QCXfog",
        "colab_type": "text"
      },
      "source": [
        "## Hypothesis Testing\n",
        "---"
      ]
    },
    {
      "cell_type": "markdown",
      "metadata": {
        "id": "K3gRe-x47HRt",
        "colab_type": "text"
      },
      "source": [
        "Many of the Statistical Exploration conducted on data will involve Hypothesis Testing.\n",
        "\n",
        "---\n",
        "***What is a Hypothesis?***\n",
        "\n",
        "- A Hypothesis is a proposed explanation for a phenomenon. \n",
        "- A Hypothesis should be Objectively Testable\n",
        "\n",
        "---\n",
        "***Null Hypothesis $(H_0)$:***\n",
        "\n",
        "- True until proven False.\n",
        "- Usually posits no relationship\n",
        "\n",
        "---\n",
        "***Alternate Hypothesis $(H_1)$***\n",
        "\n",
        "- Negation of null hypothesis.\n",
        "- Usually asserts a specific relationship.\n",
        "\n",
        "---\n",
        "***Select a Test***\n",
        "\n",
        "- Pick from vast library.\n",
        "- Important to know which test to use when.\n",
        "\n",
        "---\n",
        "***Test Statistic***\n",
        "\n",
        "- Once the test is performed, it will return a test statistic which will be converted to a $p-value$.\n",
        "- The test statistic is an indication of whether the Hypothesis is True or False.\n",
        "\n",
        "---\n",
        "***Significance Level$(\\alpha)$***\n",
        "\n",
        "- Usually the Significance level is aroung 1%-5%.\n",
        "\n",
        "---\n",
        "***Accept or Reject***\n",
        "\n",
        "- small $p-value$? Reject\n",
        "- Small : Meaning below the significance level$(\\alpha)\n",
        "- Rejecting meaning we rejected null hypothesis and accept the alternative hypothesis.\n",
        "- If we Accept , that means we failed to reject the null hypothesis.\n",
        "---\n",
        "\n",
        "***Errors in Hypothesis Testing***\n",
        "\n",
        "<table border=\"1\">\n",
        "<th><td>Decision About Null Hypothesis</td></th>\n",
        "<tr><td></td><td>Reject</td><td>Don't Reject</td></tr>\n",
        "<tr><td>Null Hypothesis is True</td><td>Type I Error</td><td>Correct Inference</td></tr>\n",
        "<tr><td>Null Hypothesis is False</td><td>Correct Inference</td><td>Type II Error</td></tr>\n",
        "<table>\n",
        "\n",
        "---"
      ]
    },
    {
      "cell_type": "markdown",
      "metadata": {
        "id": "ERGMR7T4-IES",
        "colab_type": "text"
      },
      "source": [
        "## Student T-Test"
      ]
    },
    {
      "cell_type": "markdown",
      "metadata": {
        "id": "KtA0Rf4aEvcB",
        "colab_type": "text"
      },
      "source": [
        "***T Tests:***\n",
        "- Most Common, Simple Statistical test .\n",
        "- Used to learn about averages or differences across two categories.\n",
        "- It is also used to tell whether the differences are significant.\n",
        "- It is specifically used to compare two categories or two populations and not more.\n",
        "  - eg, Average **male** baby birth weight = Average **female** baby birth weight?\n",
        "  - Is the difference statistically significant?\n",
        "\n",
        "Running a T Test will give you,\n",
        "\n",
        "***T-Statistic:***\n",
        "\n",
        "  - Score which indicated the differnce in the means.\n",
        "\n",
        "***P-value:***\n",
        "\n",
        "  - Whether the T-Statistic is significant\n",
        "  - Low p-values of < 5% mean the result cannot be due to chance.\n",
        "\n",
        "---\n",
        "\n",
        "**Types of T Tests:**\n",
        "\n",
        "- ***One Sample Location Test:***\n",
        "  - Here we compare the values of a particular group to the average value of the population as a whole.\n",
        "  - e.g, What is the average weight of the babies born in a certain town? is this different from the average weight of the babies born as a whole to the entire population.\n",
        "\n",
        "- ***Two Sample Location Test(a.k.a Independant Sample t-test):***\n",
        "  - It is used to compare values across two categories, or two groups of populations.\n",
        "  - e.g, Is the average weight of babies born in Town A different from Average Weight of Babies born in Town B?\n",
        "- ***Paired Difference Test:***\n",
        "  - It is a T-test that compares the same population sample at different points in time.\n",
        "  - e.g, If the average weight of babies born in winter different from the weight of babies born in summer?\n",
        "- ***Regression Coefficient Test:***\n",
        "  - It is used to test if the coeffiecient of any of the independant variables used in your regression is greater than 0.\n",
        "  - The t test can be used to check if an Independant variable is significant to your regression.\n",
        "\n",
        "---\n",
        "***Note:***\n",
        "\n",
        "- There statistics only apply to sample of data, and so are known as **sample statistics**.\n",
        "\n",
        "- The Correspondint figures for all the possible data points out there are called **population statistics**.\n",
        "\n",
        "- Any analysis is typically performed on the sample drawn from the population as a whole.\n",
        "\n",
        "- The Sample drawn should be a representative sample and not a biased sample.\n",
        "\n",
        "---\n",
        "\n",
        "***Assumptions of T-Test:***\n",
        "\n",
        "- **Populations** are **normal**.\n",
        "- **Samples** are **Representative**.\n",
        "- **Samples** are **randomly drawn**.\n",
        "\n",
        "---\n",
        "\n",
        "**T-Tests**\n",
        "\n",
        "- Works Best for **Two** group Comparisons.\n",
        "- Comparing Multiple groups can get tricky,\n",
        "  - Need many pairwise tests.\n",
        "  - Increases the likelihood of Type I error (alpha inflation).\n",
        "- For Multiple groups, Just use **ANOVA (ANalysis Of VAriance)**.\n",
        "---"
      ]
    },
    {
      "cell_type": "markdown",
      "metadata": {
        "id": "Xk4frr6JFdIw",
        "colab_type": "text"
      },
      "source": [
        "# Practicals"
      ]
    },
    {
      "cell_type": "markdown",
      "metadata": {
        "id": "DnVbmMsTLaKs",
        "colab_type": "text"
      },
      "source": [
        "## Implementing T-Tests"
      ]
    },
    {
      "cell_type": "code",
      "metadata": {
        "id": "MFc7N4AhLdIg",
        "colab_type": "code",
        "colab": {}
      },
      "source": [
        "import warnings\n",
        "warnings.filterwarnings('ignore')"
      ],
      "execution_count": 0,
      "outputs": []
    },
    {
      "cell_type": "code",
      "metadata": {
        "id": "zpOnf9fUL-7b",
        "colab_type": "code",
        "colab": {}
      },
      "source": [
        "%matplotlib inline\n",
        "\n",
        "import statsmodels.api as sm\n",
        "import matplotlib.pyplot as plt\n",
        "import pandas as pd\n",
        "\n",
        "from statsmodels.stats.weightstats import ttest_ind # Calling the Independant Test  from the statsmodels Library"
      ],
      "execution_count": 0,
      "outputs": []
    },
    {
      "cell_type": "code",
      "metadata": {
        "id": "lDnscbMbMYVX",
        "colab_type": "code",
        "colab": {
          "base_uri": "https://localhost:8080/",
          "height": 677
        },
        "outputId": "06773537-5cc9-468f-bc82-102869c6274a"
      },
      "source": [
        "jobtest = pd.read_csv('/content/drive/My Drive/Repos/Git/Statistics Using statsmodels/Dataset/jobtest.csv')\n",
        "\n",
        "jobtest"
      ],
      "execution_count": 3,
      "outputs": [
        {
          "output_type": "execute_result",
          "data": {
            "text/html": [
              "<div>\n",
              "<style scoped>\n",
              "    .dataframe tbody tr th:only-of-type {\n",
              "        vertical-align: middle;\n",
              "    }\n",
              "\n",
              "    .dataframe tbody tr th {\n",
              "        vertical-align: top;\n",
              "    }\n",
              "\n",
              "    .dataframe thead th {\n",
              "        text-align: right;\n",
              "    }\n",
              "</style>\n",
              "<table border=\"1\" class=\"dataframe\">\n",
              "  <thead>\n",
              "    <tr style=\"text-align: right;\">\n",
              "      <th></th>\n",
              "      <th>TEST</th>\n",
              "      <th>MINORITY</th>\n",
              "      <th>JPERF</th>\n",
              "    </tr>\n",
              "  </thead>\n",
              "  <tbody>\n",
              "    <tr>\n",
              "      <th>0</th>\n",
              "      <td>0.28</td>\n",
              "      <td>1</td>\n",
              "      <td>1.83</td>\n",
              "    </tr>\n",
              "    <tr>\n",
              "      <th>1</th>\n",
              "      <td>0.97</td>\n",
              "      <td>1</td>\n",
              "      <td>4.59</td>\n",
              "    </tr>\n",
              "    <tr>\n",
              "      <th>2</th>\n",
              "      <td>1.25</td>\n",
              "      <td>1</td>\n",
              "      <td>2.97</td>\n",
              "    </tr>\n",
              "    <tr>\n",
              "      <th>3</th>\n",
              "      <td>2.46</td>\n",
              "      <td>1</td>\n",
              "      <td>8.14</td>\n",
              "    </tr>\n",
              "    <tr>\n",
              "      <th>4</th>\n",
              "      <td>2.51</td>\n",
              "      <td>1</td>\n",
              "      <td>8.00</td>\n",
              "    </tr>\n",
              "    <tr>\n",
              "      <th>5</th>\n",
              "      <td>1.17</td>\n",
              "      <td>1</td>\n",
              "      <td>3.30</td>\n",
              "    </tr>\n",
              "    <tr>\n",
              "      <th>6</th>\n",
              "      <td>1.78</td>\n",
              "      <td>1</td>\n",
              "      <td>7.53</td>\n",
              "    </tr>\n",
              "    <tr>\n",
              "      <th>7</th>\n",
              "      <td>1.21</td>\n",
              "      <td>1</td>\n",
              "      <td>2.03</td>\n",
              "    </tr>\n",
              "    <tr>\n",
              "      <th>8</th>\n",
              "      <td>1.63</td>\n",
              "      <td>1</td>\n",
              "      <td>5.00</td>\n",
              "    </tr>\n",
              "    <tr>\n",
              "      <th>9</th>\n",
              "      <td>1.98</td>\n",
              "      <td>1</td>\n",
              "      <td>8.04</td>\n",
              "    </tr>\n",
              "    <tr>\n",
              "      <th>10</th>\n",
              "      <td>2.36</td>\n",
              "      <td>0</td>\n",
              "      <td>3.25</td>\n",
              "    </tr>\n",
              "    <tr>\n",
              "      <th>11</th>\n",
              "      <td>2.11</td>\n",
              "      <td>0</td>\n",
              "      <td>5.30</td>\n",
              "    </tr>\n",
              "    <tr>\n",
              "      <th>12</th>\n",
              "      <td>0.45</td>\n",
              "      <td>0</td>\n",
              "      <td>1.39</td>\n",
              "    </tr>\n",
              "    <tr>\n",
              "      <th>13</th>\n",
              "      <td>1.76</td>\n",
              "      <td>0</td>\n",
              "      <td>4.69</td>\n",
              "    </tr>\n",
              "    <tr>\n",
              "      <th>14</th>\n",
              "      <td>2.09</td>\n",
              "      <td>0</td>\n",
              "      <td>6.56</td>\n",
              "    </tr>\n",
              "    <tr>\n",
              "      <th>15</th>\n",
              "      <td>1.50</td>\n",
              "      <td>0</td>\n",
              "      <td>3.00</td>\n",
              "    </tr>\n",
              "    <tr>\n",
              "      <th>16</th>\n",
              "      <td>1.25</td>\n",
              "      <td>0</td>\n",
              "      <td>5.85</td>\n",
              "    </tr>\n",
              "    <tr>\n",
              "      <th>17</th>\n",
              "      <td>0.72</td>\n",
              "      <td>0</td>\n",
              "      <td>1.90</td>\n",
              "    </tr>\n",
              "    <tr>\n",
              "      <th>18</th>\n",
              "      <td>0.42</td>\n",
              "      <td>0</td>\n",
              "      <td>3.85</td>\n",
              "    </tr>\n",
              "    <tr>\n",
              "      <th>19</th>\n",
              "      <td>1.53</td>\n",
              "      <td>0</td>\n",
              "      <td>2.95</td>\n",
              "    </tr>\n",
              "  </tbody>\n",
              "</table>\n",
              "</div>"
            ],
            "text/plain": [
              "    TEST  MINORITY  JPERF\n",
              "0   0.28         1   1.83\n",
              "1   0.97         1   4.59\n",
              "2   1.25         1   2.97\n",
              "3   2.46         1   8.14\n",
              "4   2.51         1   8.00\n",
              "5   1.17         1   3.30\n",
              "6   1.78         1   7.53\n",
              "7   1.21         1   2.03\n",
              "8   1.63         1   5.00\n",
              "9   1.98         1   8.04\n",
              "10  2.36         0   3.25\n",
              "11  2.11         0   5.30\n",
              "12  0.45         0   1.39\n",
              "13  1.76         0   4.69\n",
              "14  2.09         0   6.56\n",
              "15  1.50         0   3.00\n",
              "16  1.25         0   5.85\n",
              "17  0.72         0   1.90\n",
              "18  0.42         0   3.85\n",
              "19  1.53         0   2.95"
            ]
          },
          "metadata": {
            "tags": []
          },
          "execution_count": 3
        }
      ]
    },
    {
      "cell_type": "markdown",
      "metadata": {
        "id": "cxCYzldcNqzU",
        "colab_type": "text"
      },
      "source": [
        "Column Types and Its Meanings:\n",
        "- Test: Test Score for the Employees.\n",
        "- Minority: Categorical Variable.\n",
        "- JPERF: Job Performance Scores."
      ]
    },
    {
      "cell_type": "markdown",
      "metadata": {
        "id": "qTXUzLX5OJw4",
        "colab_type": "text"
      },
      "source": [
        "**Compare the Job Performace Score with Respect to the Minority Category**"
      ]
    },
    {
      "cell_type": "code",
      "metadata": {
        "id": "x9jThSs3OVox",
        "colab_type": "code",
        "colab": {
          "base_uri": "https://localhost:8080/",
          "height": 319
        },
        "outputId": "7a71379a-4811-4a2b-8089-343f1ed5eb2d"
      },
      "source": [
        "jobtest.boxplot(column=['JPERF'],by='MINORITY')"
      ],
      "execution_count": 4,
      "outputs": [
        {
          "output_type": "execute_result",
          "data": {
            "text/plain": [
              "<matplotlib.axes._subplots.AxesSubplot at 0x7f503d87d940>"
            ]
          },
          "metadata": {
            "tags": []
          },
          "execution_count": 4
        },
        {
          "output_type": "display_data",
          "data": {
            "image/png": "[encoded data removed]",
            "text/plain": [
              "<Figure size 432x288 with 1 Axes>"
            ]
          },
          "metadata": {
            "tags": []
          }
        }
      ]
    },
    {
      "cell_type": "markdown",
      "metadata": {
        "id": "BkhZo6naOiDr",
        "colab_type": "text"
      },
      "source": [
        "**Observation:**\n",
        "- the median score of the Minoroty category is higher than that of Non Minority category.\n",
        "- However, we need to test the significance of the differences between these two groups.\n"
      ]
    },
    {
      "cell_type": "code",
      "metadata": {
        "id": "vNyU5Ym7PCuh",
        "colab_type": "code",
        "colab": {
          "base_uri": "https://localhost:8080/",
          "height": 363
        },
        "outputId": "c75751fc-aac1-4248-c51f-d5c8105c6b36"
      },
      "source": [
        "m_0 = jobtest[jobtest['MINORITY']==0]\n",
        "m_1 = jobtest[jobtest['MINORITY']==1]\n",
        "\n",
        "m_0"
      ],
      "execution_count": 5,
      "outputs": [
        {
          "output_type": "execute_result",
          "data": {
            "text/html": [
              "<div>\n",
              "<style scoped>\n",
              "    .dataframe tbody tr th:only-of-type {\n",
              "        vertical-align: middle;\n",
              "    }\n",
              "\n",
              "    .dataframe tbody tr th {\n",
              "        vertical-align: top;\n",
              "    }\n",
              "\n",
              "    .dataframe thead th {\n",
              "        text-align: right;\n",
              "    }\n",
              "</style>\n",
              "<table border=\"1\" class=\"dataframe\">\n",
              "  <thead>\n",
              "    <tr style=\"text-align: right;\">\n",
              "      <th></th>\n",
              "      <th>TEST</th>\n",
              "      <th>MINORITY</th>\n",
              "      <th>JPERF</th>\n",
              "    </tr>\n",
              "  </thead>\n",
              "  <tbody>\n",
              "    <tr>\n",
              "      <th>10</th>\n",
              "      <td>2.36</td>\n",
              "      <td>0</td>\n",
              "      <td>3.25</td>\n",
              "    </tr>\n",
              "    <tr>\n",
              "      <th>11</th>\n",
              "      <td>2.11</td>\n",
              "      <td>0</td>\n",
              "      <td>5.30</td>\n",
              "    </tr>\n",
              "    <tr>\n",
              "      <th>12</th>\n",
              "      <td>0.45</td>\n",
              "      <td>0</td>\n",
              "      <td>1.39</td>\n",
              "    </tr>\n",
              "    <tr>\n",
              "      <th>13</th>\n",
              "      <td>1.76</td>\n",
              "      <td>0</td>\n",
              "      <td>4.69</td>\n",
              "    </tr>\n",
              "    <tr>\n",
              "      <th>14</th>\n",
              "      <td>2.09</td>\n",
              "      <td>0</td>\n",
              "      <td>6.56</td>\n",
              "    </tr>\n",
              "    <tr>\n",
              "      <th>15</th>\n",
              "      <td>1.50</td>\n",
              "      <td>0</td>\n",
              "      <td>3.00</td>\n",
              "    </tr>\n",
              "    <tr>\n",
              "      <th>16</th>\n",
              "      <td>1.25</td>\n",
              "      <td>0</td>\n",
              "      <td>5.85</td>\n",
              "    </tr>\n",
              "    <tr>\n",
              "      <th>17</th>\n",
              "      <td>0.72</td>\n",
              "      <td>0</td>\n",
              "      <td>1.90</td>\n",
              "    </tr>\n",
              "    <tr>\n",
              "      <th>18</th>\n",
              "      <td>0.42</td>\n",
              "      <td>0</td>\n",
              "      <td>3.85</td>\n",
              "    </tr>\n",
              "    <tr>\n",
              "      <th>19</th>\n",
              "      <td>1.53</td>\n",
              "      <td>0</td>\n",
              "      <td>2.95</td>\n",
              "    </tr>\n",
              "  </tbody>\n",
              "</table>\n",
              "</div>"
            ],
            "text/plain": [
              "    TEST  MINORITY  JPERF\n",
              "10  2.36         0   3.25\n",
              "11  2.11         0   5.30\n",
              "12  0.45         0   1.39\n",
              "13  1.76         0   4.69\n",
              "14  2.09         0   6.56\n",
              "15  1.50         0   3.00\n",
              "16  1.25         0   5.85\n",
              "17  0.72         0   1.90\n",
              "18  0.42         0   3.85\n",
              "19  1.53         0   2.95"
            ]
          },
          "metadata": {
            "tags": []
          },
          "execution_count": 5
        }
      ]
    },
    {
      "cell_type": "markdown",
      "metadata": {
        "id": "u71W6LiwPQ-V",
        "colab_type": "text"
      },
      "source": [
        "**Using Independant Sample T-Test to Check if the Job Performce Scores between Minority and Non Minority Candidates are different**"
      ]
    },
    {
      "cell_type": "markdown",
      "metadata": {
        "id": "RGeS6PVRPtFe",
        "colab_type": "text"
      },
      "source": [
        "- $H_0:$ Job Performance is not different.\n",
        "- $H_1:$ Job Performance is different."
      ]
    },
    {
      "cell_type": "code",
      "metadata": {
        "id": "HAYEw37OPgZZ",
        "colab_type": "code",
        "colab": {
          "base_uri": "https://localhost:8080/",
          "height": 35
        },
        "outputId": "89f2a194-8c7b-48e7-9102-28e3f0371f26"
      },
      "source": [
        "''' This Checks when alternative hypothesis when true, the difference between the means values is greater than or less than the value 0'''\n",
        "ttest_ind(m_1['JPERF'],m_0['JPERF'],alternative='two-sided',value=0) "
      ],
      "execution_count": 7,
      "outputs": [
        {
          "output_type": "execute_result",
          "data": {
            "text/plain": [
              "(1.296372732868917, 0.21122206282829198, 18.0)"
            ]
          },
          "metadata": {
            "tags": []
          },
          "execution_count": 7
        }
      ]
    },
    {
      "cell_type": "markdown",
      "metadata": {
        "id": "ILksMQ5bQZuY",
        "colab_type": "text"
      },
      "source": [
        "**Observation:**\n",
        "- **T-Statistic:** 1.2963, is the difference **significant**??\n",
        "- **p-value:** 0.21>0.05, which means that we can reject the alternative hypothesis and accept the null hypothesis."
      ]
    },
    {
      "cell_type": "code",
      "metadata": {
        "id": "ASVP9uy4Q-ht",
        "colab_type": "code",
        "colab": {
          "base_uri": "https://localhost:8080/",
          "height": 300
        },
        "outputId": "2a969e98-7794-40c6-c459-431065e4accc"
      },
      "source": [
        "jobtest.describe()"
      ],
      "execution_count": 8,
      "outputs": [
        {
          "output_type": "execute_result",
          "data": {
            "text/html": [
              "<div>\n",
              "<style scoped>\n",
              "    .dataframe tbody tr th:only-of-type {\n",
              "        vertical-align: middle;\n",
              "    }\n",
              "\n",
              "    .dataframe tbody tr th {\n",
              "        vertical-align: top;\n",
              "    }\n",
              "\n",
              "    .dataframe thead th {\n",
              "        text-align: right;\n",
              "    }\n",
              "</style>\n",
              "<table border=\"1\" class=\"dataframe\">\n",
              "  <thead>\n",
              "    <tr style=\"text-align: right;\">\n",
              "      <th></th>\n",
              "      <th>TEST</th>\n",
              "      <th>MINORITY</th>\n",
              "      <th>JPERF</th>\n",
              "    </tr>\n",
              "  </thead>\n",
              "  <tbody>\n",
              "    <tr>\n",
              "      <th>count</th>\n",
              "      <td>20.00000</td>\n",
              "      <td>20.000000</td>\n",
              "      <td>20.000000</td>\n",
              "    </tr>\n",
              "    <tr>\n",
              "      <th>mean</th>\n",
              "      <td>1.47150</td>\n",
              "      <td>0.500000</td>\n",
              "      <td>4.508500</td>\n",
              "    </tr>\n",
              "    <tr>\n",
              "      <th>std</th>\n",
              "      <td>0.67839</td>\n",
              "      <td>0.512989</td>\n",
              "      <td>2.227711</td>\n",
              "    </tr>\n",
              "    <tr>\n",
              "      <th>min</th>\n",
              "      <td>0.28000</td>\n",
              "      <td>0.000000</td>\n",
              "      <td>1.390000</td>\n",
              "    </tr>\n",
              "    <tr>\n",
              "      <th>25%</th>\n",
              "      <td>1.12000</td>\n",
              "      <td>0.000000</td>\n",
              "      <td>2.965000</td>\n",
              "    </tr>\n",
              "    <tr>\n",
              "      <th>50%</th>\n",
              "      <td>1.51500</td>\n",
              "      <td>0.500000</td>\n",
              "      <td>4.220000</td>\n",
              "    </tr>\n",
              "    <tr>\n",
              "      <th>75%</th>\n",
              "      <td>2.00750</td>\n",
              "      <td>1.000000</td>\n",
              "      <td>6.027500</td>\n",
              "    </tr>\n",
              "    <tr>\n",
              "      <th>max</th>\n",
              "      <td>2.51000</td>\n",
              "      <td>1.000000</td>\n",
              "      <td>8.140000</td>\n",
              "    </tr>\n",
              "  </tbody>\n",
              "</table>\n",
              "</div>"
            ],
            "text/plain": [
              "           TEST   MINORITY      JPERF\n",
              "count  20.00000  20.000000  20.000000\n",
              "mean    1.47150   0.500000   4.508500\n",
              "std     0.67839   0.512989   2.227711\n",
              "min     0.28000   0.000000   1.390000\n",
              "25%     1.12000   0.000000   2.965000\n",
              "50%     1.51500   0.500000   4.220000\n",
              "75%     2.00750   1.000000   6.027500\n",
              "max     2.51000   1.000000   8.140000"
            ]
          },
          "metadata": {
            "tags": []
          },
          "execution_count": 8
        }
      ]
    },
    {
      "cell_type": "markdown",
      "metadata": {
        "id": "AsfttROIRBmd",
        "colab_type": "text"
      },
      "source": [
        "**Classify them based on their Test Scores**"
      ]
    },
    {
      "cell_type": "code",
      "metadata": {
        "id": "rn2eC5KiRR2w",
        "colab_type": "code",
        "colab": {
          "base_uri": "https://localhost:8080/",
          "height": 332
        },
        "outputId": "60cce2bc-612e-4519-8ec5-4e506c141729"
      },
      "source": [
        "low_test = jobtest[jobtest['TEST']<1.5]\n",
        "high_test = jobtest[jobtest['TEST']>=1.5]\n",
        "\n",
        "low_test"
      ],
      "execution_count": 9,
      "outputs": [
        {
          "output_type": "execute_result",
          "data": {
            "text/html": [
              "<div>\n",
              "<style scoped>\n",
              "    .dataframe tbody tr th:only-of-type {\n",
              "        vertical-align: middle;\n",
              "    }\n",
              "\n",
              "    .dataframe tbody tr th {\n",
              "        vertical-align: top;\n",
              "    }\n",
              "\n",
              "    .dataframe thead th {\n",
              "        text-align: right;\n",
              "    }\n",
              "</style>\n",
              "<table border=\"1\" class=\"dataframe\">\n",
              "  <thead>\n",
              "    <tr style=\"text-align: right;\">\n",
              "      <th></th>\n",
              "      <th>TEST</th>\n",
              "      <th>MINORITY</th>\n",
              "      <th>JPERF</th>\n",
              "    </tr>\n",
              "  </thead>\n",
              "  <tbody>\n",
              "    <tr>\n",
              "      <th>0</th>\n",
              "      <td>0.28</td>\n",
              "      <td>1</td>\n",
              "      <td>1.83</td>\n",
              "    </tr>\n",
              "    <tr>\n",
              "      <th>1</th>\n",
              "      <td>0.97</td>\n",
              "      <td>1</td>\n",
              "      <td>4.59</td>\n",
              "    </tr>\n",
              "    <tr>\n",
              "      <th>2</th>\n",
              "      <td>1.25</td>\n",
              "      <td>1</td>\n",
              "      <td>2.97</td>\n",
              "    </tr>\n",
              "    <tr>\n",
              "      <th>5</th>\n",
              "      <td>1.17</td>\n",
              "      <td>1</td>\n",
              "      <td>3.30</td>\n",
              "    </tr>\n",
              "    <tr>\n",
              "      <th>7</th>\n",
              "      <td>1.21</td>\n",
              "      <td>1</td>\n",
              "      <td>2.03</td>\n",
              "    </tr>\n",
              "    <tr>\n",
              "      <th>12</th>\n",
              "      <td>0.45</td>\n",
              "      <td>0</td>\n",
              "      <td>1.39</td>\n",
              "    </tr>\n",
              "    <tr>\n",
              "      <th>16</th>\n",
              "      <td>1.25</td>\n",
              "      <td>0</td>\n",
              "      <td>5.85</td>\n",
              "    </tr>\n",
              "    <tr>\n",
              "      <th>17</th>\n",
              "      <td>0.72</td>\n",
              "      <td>0</td>\n",
              "      <td>1.90</td>\n",
              "    </tr>\n",
              "    <tr>\n",
              "      <th>18</th>\n",
              "      <td>0.42</td>\n",
              "      <td>0</td>\n",
              "      <td>3.85</td>\n",
              "    </tr>\n",
              "  </tbody>\n",
              "</table>\n",
              "</div>"
            ],
            "text/plain": [
              "    TEST  MINORITY  JPERF\n",
              "0   0.28         1   1.83\n",
              "1   0.97         1   4.59\n",
              "2   1.25         1   2.97\n",
              "5   1.17         1   3.30\n",
              "7   1.21         1   2.03\n",
              "12  0.45         0   1.39\n",
              "16  1.25         0   5.85\n",
              "17  0.72         0   1.90\n",
              "18  0.42         0   3.85"
            ]
          },
          "metadata": {
            "tags": []
          },
          "execution_count": 9
        }
      ]
    },
    {
      "cell_type": "markdown",
      "metadata": {
        "id": "AkI1n9lPRjDi",
        "colab_type": "text"
      },
      "source": [
        "**Using Independant Sample T-Test to check of there is a difference between the Job Performance score between Low Test Score and High Test Score Employees**"
      ]
    },
    {
      "cell_type": "markdown",
      "metadata": {
        "id": "u9gOCLzGSLrL",
        "colab_type": "text"
      },
      "source": [
        "- $H_0:$ There is no difference in Job Performace.\n",
        "- $H_1:$ There is difference in Job Performance between Low and High Test Scoring Employees."
      ]
    },
    {
      "cell_type": "code",
      "metadata": {
        "id": "TXYMHA7LR2bM",
        "colab_type": "code",
        "colab": {
          "base_uri": "https://localhost:8080/",
          "height": 35
        },
        "outputId": "b9c38fa6-4277-4bdf-bc4c-2c5f903dbddc"
      },
      "source": [
        "ttest_ind(high_test['JPERF'],low_test['JPERF'],alternative='two-sided',value=0)"
      ],
      "execution_count": 10,
      "outputs": [
        {
          "output_type": "execute_result",
          "data": {
            "text/plain": [
              "(3.1453782341253196, 0.005594750418932361, 18.0)"
            ]
          },
          "metadata": {
            "tags": []
          },
          "execution_count": 10
        }
      ]
    },
    {
      "cell_type": "markdown",
      "metadata": {
        "id": "g6NhEmCSSH57",
        "colab_type": "text"
      },
      "source": [
        "**Observation:**\n",
        "- **T-Statistic:** 3.1453, there is a difference, However is the difference significant?\n",
        "- **p-value:** 0.005 < 0.05,The Result is Significant. Hence we reject the null Hypothesis$(H_0)$ and accept the alternate Hypothesis$(H_1)$."
      ]
    },
    {
      "cell_type": "code",
      "metadata": {
        "id": "lwl4iTQrTR1j",
        "colab_type": "code",
        "colab": {}
      },
      "source": [
        ""
      ],
      "execution_count": 0,
      "outputs": []
    }
  ]
}