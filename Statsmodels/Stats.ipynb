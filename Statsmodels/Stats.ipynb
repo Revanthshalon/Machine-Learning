{
  "nbformat": 4,
  "nbformat_minor": 0,
  "metadata": {
    "colab": {
      "name": "Stats.ipynb",
      "provenance": [],
      "collapsed_sections": [],
      "toc_visible": true
    },
    "kernelspec": {
      "name": "python3",
      "display_name": "Python 3"
    }
  },
  "cells": [
    {
      "cell_type": "markdown",
      "metadata": {
        "id": "CZEZXdq3NuHu",
        "colab_type": "text"
      },
      "source": [
        "# Basic Concepts of Statistics"
      ]
    },
    {
      "cell_type": "markdown",
      "metadata": {
        "id": "waChdyIFWxg7",
        "colab_type": "text"
      },
      "source": [
        "## Mean, Variance and Standard Deviation\n",
        "---"
      ]
    },
    {
      "cell_type": "markdown",
      "metadata": {
        "id": "ecvpB59zWzLy",
        "colab_type": "text"
      },
      "source": [
        "Lets say we have a set of Numbers, the mean or average is one number which best represents all of the data points.\n",
        "\n",
        "---\n",
        "***Mean*** is often used to summarise the data.\n",
        "\n",
        "$\\bar{X} = \\frac{x_1+x_2+...+x_n}{n}$\n",
        "\n",
        "There are other important characteristics of the data that we might want to know as well,such as ***Range,Variance,Standard Deviation***\n",
        "\n",
        "---\n",
        "\n",
        "$Range = X_{max}-X_{min}$\n",
        "\n",
        "***Range*** completly ignore the mean and is susceptible to outliers data. This is where ***variance*** comes in.\n",
        "\n",
        "---\n",
        "\n",
        "***Variance*** tries to capture the variation in the data, by also taking into account the average of the data points.\n",
        "\n",
        "$Mean Deviation = X_i - \\bar{X}$\n",
        "\n",
        "$Variance = \\frac{\\sum_{0}^{n}(X_i-\\bar{X})^2}{n} $\n",
        "\n",
        "We can improve our estimate of the variance by tweaking the denominator - this is called Bessel's Correction.\n",
        "\n",
        "$Variance = \\frac{\\sum_{0}^{n}(X_i-\\bar{X})^2}{n-1}$ with Bessel's Correction\n",
        "\n",
        "---\n",
        "\n",
        "***Standard Deviation*** is the square root of Variance. The Standard Deviation is of the same scale and hence easier to compare rather than variance.\n",
        "\n",
        "$Standard Deviation = \\sqrt\\frac{\\sum_{0}^{n}(X_i-\\bar{X})^2}{n-1}$\n",
        "\n",
        "---\n",
        "***Gaussian Distribution***\n",
        "\n",
        "- Around 68% of the data points will lie within one standard devtiation of the mean.\n",
        "- 95% of the data points are within two standard deviations of the mean.\n",
        "- 99% of the data points are within three standard deviations of the mean.\n",
        "- Standard deviation for a normal curve would give us the info of how spread out our data is.\n",
        "- If the Standard Deviation is small, or when there are very few points away from the mean, the normal curve looks thin and tall.\n",
        "- If the Standard Deviation is huge, then there are many points that are far from the mean and the normal curve tends to be spread out.\n",
        "---\n"
      ]
    },
    {
      "cell_type": "markdown",
      "metadata": {
        "id": "qpi-T4QCXfog",
        "colab_type": "text"
      },
      "source": [
        "## Hypothesis Testing\n",
        "---"
      ]
    },
    {
      "cell_type": "markdown",
      "metadata": {
        "id": "K3gRe-x47HRt",
        "colab_type": "text"
      },
      "source": [
        "Many of the Statistical Exploration conducted on data will involve Hypothesis Testing.\n",
        "\n",
        "---\n",
        "***What is a Hypothesis?***\n",
        "\n",
        "- A Hypothesis is a proposed explanation for a phenomenon. \n",
        "- A Hypothesis should be Objectively Testable\n",
        "\n",
        "---\n",
        "***Null Hypothesis $(H_0)$:***\n",
        "\n",
        "- True until proven False.\n",
        "- Usually posits no relationship\n",
        "\n",
        "---\n",
        "***Alternate Hypothesis $(H_1)$***\n",
        "\n",
        "- Negation of null hypothesis.\n",
        "- Usually asserts a specific relationship.\n",
        "\n",
        "---\n",
        "***Select a Test***\n",
        "\n",
        "- Pick from vast library.\n",
        "- Important to know which test to use when.\n",
        "\n",
        "---\n",
        "***Test Statistic***\n",
        "\n",
        "- Once the test is performed, it will return a test statistic which will be converted to a $p-value$.\n",
        "- The test statistic is an indication of whether the Hypothesis is True or False.\n",
        "\n",
        "---\n",
        "***Significance Level$(\\alpha)$***\n",
        "\n",
        "- Usually the Significance level is aroung 1%-5%.\n",
        "\n",
        "---\n",
        "***Accept or Reject***\n",
        "\n",
        "- small $p-value$? Reject\n",
        "- Small : Meaning below the significance level$(\\alpha)\n",
        "- Rejecting meaning we rejected null hypothesis and accept the alternative hypothesis.\n",
        "- If we Accept , that means we failed to reject the null hypothesis.\n",
        "---\n",
        "\n",
        "***Errors in Hypothesis Testing***\n",
        "\n",
        "<table border=\"1\">\n",
        "<th><td>Decision About Null Hypothesis</td></th>\n",
        "<tr><td></td><td>Reject</td><td>Don't Reject</td></tr>\n",
        "<tr><td>Null Hypothesis is True</td><td>Type I Error</td><td>Correct Inference</td></tr>\n",
        "<tr><td>Null Hypothesis is False</td><td>Correct Inference</td><td>Type II Error</td></tr>\n",
        "<table>\n",
        "\n",
        "---"
      ]
    },
    {
      "cell_type": "markdown",
      "metadata": {
        "id": "ERGMR7T4-IES",
        "colab_type": "text"
      },
      "source": [
        "## Student T-Test"
      ]
    },
    {
      "cell_type": "markdown",
      "metadata": {
        "id": "KtA0Rf4aEvcB",
        "colab_type": "text"
      },
      "source": [
        "***T Tests:***\n",
        "- Most Common, Simple Statistical test .\n",
        "- Used to learn about averages or differences across two categories.\n",
        "- It is also used to tell whether the differences are significant.\n",
        "- It is specifically used to compare two categories or two populations and not more.\n",
        "  - eg, Average **male** baby birth weight = Average **female** baby birth weight?\n",
        "  - Is the difference statistically significant?\n",
        "\n",
        "Running a T Test will give you,\n",
        "\n",
        "***T-Statistic:***\n",
        "\n",
        "  - Score which indicated the differnce in the means.\n",
        "\n",
        "***P-value:***\n",
        "\n",
        "  - Whether the T-Statistic is significant\n",
        "  - Low p-values of < 5% mean the result cannot be due to chance.\n",
        "\n",
        "---\n",
        "\n",
        "**Types of T Tests:**\n",
        "\n",
        "- ***One Sample Location Test:***\n",
        "  - Here we compare the values of a particular group to the average value of the population as a whole.\n",
        "  - e.g, What is the average weight of the babies born in a certain town? is this different from the average weight of the babies born as a whole to the entire population.\n",
        "\n",
        "- ***Two Sample Location Test(a.k.a Independant Sample t-test):***\n",
        "  - It is used to compare values across two categories, or two groups of populations.\n",
        "  - e.g, Is the average weight of babies born in Town A different from Average Weight of Babies born in Town B?\n",
        "- ***Paired Difference Test:***\n",
        "  - It is a T-test that compares the same population sample at different points in time.\n",
        "  - e.g, If the average weight of babies born in winter different from the weight of babies born in summer?\n",
        "- ***Regression Coefficient Test:***\n",
        "  - It is used to test if the coeffiecient of any of the independant variables used in your regression is greater than 0.\n",
        "  - The t test can be used to check if an Independant variable is significant to your regression.\n",
        "\n",
        "---\n",
        "***Note:***\n",
        "\n",
        "- There statistics only apply to sample of data, and so are known as **sample statistics**.\n",
        "\n",
        "- The Correspondint figures for all the possible data points out there are called **population statistics**.\n",
        "\n",
        "- Any analysis is typically performed on the sample drawn from the population as a whole.\n",
        "\n",
        "- The Sample drawn should be a representative sample and not a biased sample.\n",
        "\n",
        "---\n",
        "\n",
        "***Assumptions of T-Test:***\n",
        "\n",
        "- **Populations** are **normal**.\n",
        "- **Samples** are **Representative**.\n",
        "- **Samples** are **randomly drawn**.\n",
        "\n",
        "---\n",
        "\n",
        "**T-Tests**\n",
        "\n",
        "- Works Best for **Two** group Comparisons.\n",
        "- Comparing Multiple groups can get tricky,\n",
        "  - Need many pairwise tests.\n",
        "  - Increases the likelihood of Type I error (alpha inflation).\n",
        "- For Multiple groups, Just use **ANOVA (ANalysis Of VAriance)**.\n",
        "---"
      ]
    },
    {
      "cell_type": "markdown",
      "metadata": {
        "id": "lgqsoIR0bnZD",
        "colab_type": "text"
      },
      "source": [
        "## ANOVA (ANalysis Of VAriance)"
      ]
    },
    {
      "cell_type": "markdown",
      "metadata": {
        "id": "coWefvnebyyi",
        "colab_type": "text"
      },
      "source": [
        "- T-tests are usful to compare differences between two groups.\n",
        "- Running multiple significance tests to compare across many groups is risky.\n",
        "- ***ANOVA*** test looks across ***multiple groups of populations***, compares their means to produce ***one score and one significant value***.\n",
        "\n",
        "**Example:**\n",
        "- Comparing Diabetes Risk across Patients of difference weights such as \n",
        "  - Underweight Patients\n",
        "  - Overweight Patients\n",
        "  - Normal Weight Patients\n",
        "- $H_0:$ All groups are at equal risk.\n",
        "- $H_1:$ There is a difference in the risk between different groups.\n",
        "- The Score that we get from ANOVA is called as $F_{statistic}$\n",
        "- $F_{statistic} = \\frac{Variance between groups}{Variance Within group}$\n",
        "- If the groups are similar to one another, then the $F_{statistic}$~1\n",
        "- If the groups are different, then the $F_{statistic}$ will be very large.\n",
        "- The ANOVA test also gives a $p-value$ which indicates the significance of $F_{statistic}$\n",
        "- Smaller $p-value$ indicate that the results are not due to chance.\n"
      ]
    },
    {
      "cell_type": "markdown",
      "metadata": {
        "id": "IxJ3WloMehIF",
        "colab_type": "text"
      },
      "source": [
        "### One Way ANOVA"
      ]
    },
    {
      "cell_type": "markdown",
      "metadata": {
        "id": "ZbEIuAQOekhs",
        "colab_type": "text"
      },
      "source": [
        "**One Way ANOVA:**\n",
        "- One Way ANOVA helps to compare means across two or more groups.\n",
        "- A Single Categorical Variable is used to split the population into these groups.\n",
        "---\n",
        "\n",
        "**Assumptions of ONE WAY ANOVA:**\n",
        "- The Populations are normal.\n",
        "- Samples are representative.\n",
        "- Samples are randomly drawn.\n",
        "- Variances of the population are constant.\n",
        "- The Residuals in the data form a normal distribution\n",
        "- The erros in the data are independant of other data points.\n",
        "- There are no outliers.\n",
        "- The data points are Homoscedastic.\n",
        "---\n",
        "\n",
        "**Residuals with Normal Distributions:**\n",
        "- If we fitted some kind of curve or line on our data, the distance of the data points from the fitted values should be normally distributed.\n",
        "---\n",
        "\n",
        "**Independance of Errors:**\n",
        "- This implies that the errors in the data points from the fitted value should not be correlated to one another.\n",
        "- Each error of each data point should be independant from other data points.\n",
        "- The correlation between errors should be zero.\n",
        "---\n",
        "\n",
        "**Absence of Outliers:**\n",
        "- It means that 99% of the data should lie within 3 standard deviations from the mean.\n",
        "---\n",
        "\n",
        "**Homoscedasticity:**\n",
        "- This means that the variance or the standard deviations in each group should be constant,i.e. the same\n",
        "- This Variance should not change over time or other factor.\n",
        "---\n",
        "\n"
      ]
    },
    {
      "cell_type": "markdown",
      "metadata": {
        "id": "TlZ_ac8fg8Jx",
        "colab_type": "text"
      },
      "source": [
        "#### Linear Regression"
      ]
    },
    {
      "cell_type": "markdown",
      "metadata": {
        "id": "OPiOHzKog_1N",
        "colab_type": "text"
      },
      "source": [
        "- Typically when we speak about Linear Regression, we speak about Ordinary Least Squares (OLS).\n",
        "- It is a common technique used to find the best-fitting straight line though a set of data points.\n",
        "- Regression is a technique that we use to find the relationship between cause and effect.\n",
        "- The ***Cause*** is often called the **Explanatory Variable** or **Exogenous Variable**.\n",
        "- The ***Effect*** that this Cause produces is called the **Dependant Variable** or **Endogenous Variable**\n",
        "- Linear Regression involves finding the best fit line through the data points.\n",
        "- Formula of the Line:\n",
        "  - Line 1: $y = A_1+B_1x$\n",
        "  - Line 2: $y = A_2+B_2x$\n",
        "    - Here $A_1$ and $A_2$ are the intercepts\n",
        "---\n",
        "\n",
        "**Minimising the Least Square Error:**\n",
        "- This is done by calculating the **Mean Square Error** of the fitted line. \n",
        "- Mean Square Error is calculated by dropping vertical lines from the data points to both the Line 1 and Line 2.\n",
        "- The **best fit** line is the one where the **sum of the squares of the lengths of these vertical lines from the data points to the fitted line** is ***minimum***.\n",
        "- This **best fit** line is called ***Regression Line***.\n",
        "---\n",
        "\n",
        "**$R^2$ or R-Square Method:**\n",
        "- It is used to determine, how well the regression line represents the underlying data.\n",
        "- How much of the variance in the underlying data is captured by the regression line.\n",
        "\n",
        "$R^2 = \\frac{Explained Variance}{Total Variance}$\n",
        "\n",
        "- A **higher R-Square** value indicates that a lot of underlying variance is captured.\n",
        "- The line is also a better fit."
      ]
    },
    {
      "cell_type": "markdown",
      "metadata": {
        "id": "CAYRKXqonXhP",
        "colab_type": "text"
      },
      "source": [
        "### Two Way ANOVA"
      ]
    },
    {
      "cell_type": "markdown",
      "metadata": {
        "id": "FM4Qz1BMniRV",
        "colab_type": "text"
      },
      "source": [
        "- It examines the influence of two different independant variables on one continious dependant variable.\n",
        "\n",
        "**Example:**\n",
        "- Stress Level on Employees.\n",
        "  - Employees Over 40 years of Age and Employees under 40 Years of Age.(If this was the only category we could have used independant t-test or one way anova.)\n",
        "  - In Addtion to age, we also want to consider gender, between Males and Females.\n",
        "- Hypothesis:\n",
        "  -  There are 3 Null Hypothesis.\n",
        "    - $H_{01}:$ All Gender have equal levels of stress.\n",
        "    - $H_{02}:$ All Ages have equal levels of stress.\n",
        "    - $H_{03}:$ There is no interaction between Age and Gender.\n",
        "- There is a basic version of Two Way ANOVA which test just the first two Hypothesis and doesn't test the third.\n",
        "- The extended version considers all three null hypothesis.\n",
        "\n",
        "**F-Statistic:**\n",
        "- Calculate the F-Statistic and get the p-value for each hypothesis.\n",
        "- Accept or Reject the Null Hypothesis."
      ]
    },
    {
      "cell_type": "markdown",
      "metadata": {
        "id": "Xk4frr6JFdIw",
        "colab_type": "text"
      },
      "source": [
        "# Practicals"
      ]
    },
    {
      "cell_type": "markdown",
      "metadata": {
        "id": "DnVbmMsTLaKs",
        "colab_type": "text"
      },
      "source": [
        "## Implementing T-Tests"
      ]
    },
    {
      "cell_type": "code",
      "metadata": {
        "id": "MFc7N4AhLdIg",
        "colab_type": "code",
        "colab": {}
      },
      "source": [
        "import warnings\n",
        "warnings.filterwarnings('ignore')"
      ],
      "execution_count": 0,
      "outputs": []
    },
    {
      "cell_type": "code",
      "metadata": {
        "id": "zpOnf9fUL-7b",
        "colab_type": "code",
        "colab": {}
      },
      "source": [
        "%matplotlib inline\n",
        "\n",
        "import statsmodels.api as sm\n",
        "import matplotlib.pyplot as plt\n",
        "import pandas as pd\n",
        "\n",
        "from statsmodels.stats.weightstats import ttest_ind # Calling the Independant Test  from the statsmodels Library"
      ],
      "execution_count": 0,
      "outputs": []
    },
    {
      "cell_type": "code",
      "metadata": {
        "id": "lDnscbMbMYVX",
        "colab_type": "code",
        "outputId": "3ca6d0ca-7d0e-4c11-f2e5-c7f22f6c045f",
        "colab": {
          "base_uri": "https://localhost:8080/",
          "height": 677
        }
      },
      "source": [
        "jobtest = pd.read_csv('/content/drive/My Drive/Repos/Git/Statistics-Basics/Dataset/jobtest.csv')\n",
        "\n",
        "jobtest"
      ],
      "execution_count": 5,
      "outputs": [
        {
          "output_type": "execute_result",
          "data": {
            "text/html": [
              "<div>\n",
              "<style scoped>\n",
              "    .dataframe tbody tr th:only-of-type {\n",
              "        vertical-align: middle;\n",
              "    }\n",
              "\n",
              "    .dataframe tbody tr th {\n",
              "        vertical-align: top;\n",
              "    }\n",
              "\n",
              "    .dataframe thead th {\n",
              "        text-align: right;\n",
              "    }\n",
              "</style>\n",
              "<table border=\"1\" class=\"dataframe\">\n",
              "  <thead>\n",
              "    <tr style=\"text-align: right;\">\n",
              "      <th></th>\n",
              "      <th>TEST</th>\n",
              "      <th>MINORITY</th>\n",
              "      <th>JPERF</th>\n",
              "    </tr>\n",
              "  </thead>\n",
              "  <tbody>\n",
              "    <tr>\n",
              "      <th>0</th>\n",
              "      <td>0.28</td>\n",
              "      <td>1</td>\n",
              "      <td>1.83</td>\n",
              "    </tr>\n",
              "    <tr>\n",
              "      <th>1</th>\n",
              "      <td>0.97</td>\n",
              "      <td>1</td>\n",
              "      <td>4.59</td>\n",
              "    </tr>\n",
              "    <tr>\n",
              "      <th>2</th>\n",
              "      <td>1.25</td>\n",
              "      <td>1</td>\n",
              "      <td>2.97</td>\n",
              "    </tr>\n",
              "    <tr>\n",
              "      <th>3</th>\n",
              "      <td>2.46</td>\n",
              "      <td>1</td>\n",
              "      <td>8.14</td>\n",
              "    </tr>\n",
              "    <tr>\n",
              "      <th>4</th>\n",
              "      <td>2.51</td>\n",
              "      <td>1</td>\n",
              "      <td>8.00</td>\n",
              "    </tr>\n",
              "    <tr>\n",
              "      <th>5</th>\n",
              "      <td>1.17</td>\n",
              "      <td>1</td>\n",
              "      <td>3.30</td>\n",
              "    </tr>\n",
              "    <tr>\n",
              "      <th>6</th>\n",
              "      <td>1.78</td>\n",
              "      <td>1</td>\n",
              "      <td>7.53</td>\n",
              "    </tr>\n",
              "    <tr>\n",
              "      <th>7</th>\n",
              "      <td>1.21</td>\n",
              "      <td>1</td>\n",
              "      <td>2.03</td>\n",
              "    </tr>\n",
              "    <tr>\n",
              "      <th>8</th>\n",
              "      <td>1.63</td>\n",
              "      <td>1</td>\n",
              "      <td>5.00</td>\n",
              "    </tr>\n",
              "    <tr>\n",
              "      <th>9</th>\n",
              "      <td>1.98</td>\n",
              "      <td>1</td>\n",
              "      <td>8.04</td>\n",
              "    </tr>\n",
              "    <tr>\n",
              "      <th>10</th>\n",
              "      <td>2.36</td>\n",
              "      <td>0</td>\n",
              "      <td>3.25</td>\n",
              "    </tr>\n",
              "    <tr>\n",
              "      <th>11</th>\n",
              "      <td>2.11</td>\n",
              "      <td>0</td>\n",
              "      <td>5.30</td>\n",
              "    </tr>\n",
              "    <tr>\n",
              "      <th>12</th>\n",
              "      <td>0.45</td>\n",
              "      <td>0</td>\n",
              "      <td>1.39</td>\n",
              "    </tr>\n",
              "    <tr>\n",
              "      <th>13</th>\n",
              "      <td>1.76</td>\n",
              "      <td>0</td>\n",
              "      <td>4.69</td>\n",
              "    </tr>\n",
              "    <tr>\n",
              "      <th>14</th>\n",
              "      <td>2.09</td>\n",
              "      <td>0</td>\n",
              "      <td>6.56</td>\n",
              "    </tr>\n",
              "    <tr>\n",
              "      <th>15</th>\n",
              "      <td>1.50</td>\n",
              "      <td>0</td>\n",
              "      <td>3.00</td>\n",
              "    </tr>\n",
              "    <tr>\n",
              "      <th>16</th>\n",
              "      <td>1.25</td>\n",
              "      <td>0</td>\n",
              "      <td>5.85</td>\n",
              "    </tr>\n",
              "    <tr>\n",
              "      <th>17</th>\n",
              "      <td>0.72</td>\n",
              "      <td>0</td>\n",
              "      <td>1.90</td>\n",
              "    </tr>\n",
              "    <tr>\n",
              "      <th>18</th>\n",
              "      <td>0.42</td>\n",
              "      <td>0</td>\n",
              "      <td>3.85</td>\n",
              "    </tr>\n",
              "    <tr>\n",
              "      <th>19</th>\n",
              "      <td>1.53</td>\n",
              "      <td>0</td>\n",
              "      <td>2.95</td>\n",
              "    </tr>\n",
              "  </tbody>\n",
              "</table>\n",
              "</div>"
            ],
            "text/plain": [
              "    TEST  MINORITY  JPERF\n",
              "0   0.28         1   1.83\n",
              "1   0.97         1   4.59\n",
              "2   1.25         1   2.97\n",
              "3   2.46         1   8.14\n",
              "4   2.51         1   8.00\n",
              "5   1.17         1   3.30\n",
              "6   1.78         1   7.53\n",
              "7   1.21         1   2.03\n",
              "8   1.63         1   5.00\n",
              "9   1.98         1   8.04\n",
              "10  2.36         0   3.25\n",
              "11  2.11         0   5.30\n",
              "12  0.45         0   1.39\n",
              "13  1.76         0   4.69\n",
              "14  2.09         0   6.56\n",
              "15  1.50         0   3.00\n",
              "16  1.25         0   5.85\n",
              "17  0.72         0   1.90\n",
              "18  0.42         0   3.85\n",
              "19  1.53         0   2.95"
            ]
          },
          "metadata": {
            "tags": []
          },
          "execution_count": 5
        }
      ]
    },
    {
      "cell_type": "markdown",
      "metadata": {
        "id": "cxCYzldcNqzU",
        "colab_type": "text"
      },
      "source": [
        "Column Types and Its Meanings:\n",
        "- Test: Test Score for the Employees.\n",
        "- Minority: Categorical Variable.\n",
        "- JPERF: Job Performance Scores."
      ]
    },
    {
      "cell_type": "markdown",
      "metadata": {
        "id": "qTXUzLX5OJw4",
        "colab_type": "text"
      },
      "source": [
        "**Compare the Job Performace Score with Respect to the Minority Category**"
      ]
    },
    {
      "cell_type": "code",
      "metadata": {
        "id": "x9jThSs3OVox",
        "colab_type": "code",
        "outputId": "12786921-55e6-4004-bc19-2e04b22da34a",
        "colab": {
          "base_uri": "https://localhost:8080/",
          "height": 319
        }
      },
      "source": [
        "jobtest.boxplot(column=['JPERF'],by='MINORITY')"
      ],
      "execution_count": 6,
      "outputs": [
        {
          "output_type": "execute_result",
          "data": {
            "text/plain": [
              "<matplotlib.axes._subplots.AxesSubplot at 0x7fd7b93d7908>"
            ]
          },
          "metadata": {
            "tags": []
          },
          "execution_count": 6
        },
        {
          "output_type": "display_data",
          "data": {
            "image/png": "[encoded data removed]",
            "text/plain": [
              "<Figure size 432x288 with 1 Axes>"
            ]
          },
          "metadata": {
            "tags": []
          }
        }
      ]
    },
    {
      "cell_type": "markdown",
      "metadata": {
        "id": "BkhZo6naOiDr",
        "colab_type": "text"
      },
      "source": [
        "**Observation:**\n",
        "- the median score of the Minoroty category is higher than that of Non Minority category.\n",
        "- However, we need to test the significance of the differences between these two groups.\n"
      ]
    },
    {
      "cell_type": "code",
      "metadata": {
        "id": "vNyU5Ym7PCuh",
        "colab_type": "code",
        "outputId": "31c5941b-8a45-4efa-9c65-fa5a315c63fe",
        "colab": {
          "base_uri": "https://localhost:8080/",
          "height": 363
        }
      },
      "source": [
        "m_0 = jobtest[jobtest['MINORITY']==0]\n",
        "m_1 = jobtest[jobtest['MINORITY']==1]\n",
        "\n",
        "m_0"
      ],
      "execution_count": 7,
      "outputs": [
        {
          "output_type": "execute_result",
          "data": {
            "text/html": [
              "<div>\n",
              "<style scoped>\n",
              "    .dataframe tbody tr th:only-of-type {\n",
              "        vertical-align: middle;\n",
              "    }\n",
              "\n",
              "    .dataframe tbody tr th {\n",
              "        vertical-align: top;\n",
              "    }\n",
              "\n",
              "    .dataframe thead th {\n",
              "        text-align: right;\n",
              "    }\n",
              "</style>\n",
              "<table border=\"1\" class=\"dataframe\">\n",
              "  <thead>\n",
              "    <tr style=\"text-align: right;\">\n",
              "      <th></th>\n",
              "      <th>TEST</th>\n",
              "      <th>MINORITY</th>\n",
              "      <th>JPERF</th>\n",
              "    </tr>\n",
              "  </thead>\n",
              "  <tbody>\n",
              "    <tr>\n",
              "      <th>10</th>\n",
              "      <td>2.36</td>\n",
              "      <td>0</td>\n",
              "      <td>3.25</td>\n",
              "    </tr>\n",
              "    <tr>\n",
              "      <th>11</th>\n",
              "      <td>2.11</td>\n",
              "      <td>0</td>\n",
              "      <td>5.30</td>\n",
              "    </tr>\n",
              "    <tr>\n",
              "      <th>12</th>\n",
              "      <td>0.45</td>\n",
              "      <td>0</td>\n",
              "      <td>1.39</td>\n",
              "    </tr>\n",
              "    <tr>\n",
              "      <th>13</th>\n",
              "      <td>1.76</td>\n",
              "      <td>0</td>\n",
              "      <td>4.69</td>\n",
              "    </tr>\n",
              "    <tr>\n",
              "      <th>14</th>\n",
              "      <td>2.09</td>\n",
              "      <td>0</td>\n",
              "      <td>6.56</td>\n",
              "    </tr>\n",
              "    <tr>\n",
              "      <th>15</th>\n",
              "      <td>1.50</td>\n",
              "      <td>0</td>\n",
              "      <td>3.00</td>\n",
              "    </tr>\n",
              "    <tr>\n",
              "      <th>16</th>\n",
              "      <td>1.25</td>\n",
              "      <td>0</td>\n",
              "      <td>5.85</td>\n",
              "    </tr>\n",
              "    <tr>\n",
              "      <th>17</th>\n",
              "      <td>0.72</td>\n",
              "      <td>0</td>\n",
              "      <td>1.90</td>\n",
              "    </tr>\n",
              "    <tr>\n",
              "      <th>18</th>\n",
              "      <td>0.42</td>\n",
              "      <td>0</td>\n",
              "      <td>3.85</td>\n",
              "    </tr>\n",
              "    <tr>\n",
              "      <th>19</th>\n",
              "      <td>1.53</td>\n",
              "      <td>0</td>\n",
              "      <td>2.95</td>\n",
              "    </tr>\n",
              "  </tbody>\n",
              "</table>\n",
              "</div>"
            ],
            "text/plain": [
              "    TEST  MINORITY  JPERF\n",
              "10  2.36         0   3.25\n",
              "11  2.11         0   5.30\n",
              "12  0.45         0   1.39\n",
              "13  1.76         0   4.69\n",
              "14  2.09         0   6.56\n",
              "15  1.50         0   3.00\n",
              "16  1.25         0   5.85\n",
              "17  0.72         0   1.90\n",
              "18  0.42         0   3.85\n",
              "19  1.53         0   2.95"
            ]
          },
          "metadata": {
            "tags": []
          },
          "execution_count": 7
        }
      ]
    },
    {
      "cell_type": "markdown",
      "metadata": {
        "id": "u71W6LiwPQ-V",
        "colab_type": "text"
      },
      "source": [
        "**Using Independant Sample T-Test to Check if the Job Performce Scores between Minority and Non Minority Candidates are different**"
      ]
    },
    {
      "cell_type": "markdown",
      "metadata": {
        "id": "RGeS6PVRPtFe",
        "colab_type": "text"
      },
      "source": [
        "- $H_0:$ Job Performance is not different.\n",
        "- $H_1:$ Job Performance is different."
      ]
    },
    {
      "cell_type": "code",
      "metadata": {
        "id": "HAYEw37OPgZZ",
        "colab_type": "code",
        "outputId": "8c1964b8-2ad8-460b-d06b-4cf57b93c853",
        "colab": {
          "base_uri": "https://localhost:8080/",
          "height": 35
        }
      },
      "source": [
        "''' This Checks when alternative hypothesis when true, the difference between the means values is greater than or less than the value 0'''\n",
        "ttest_ind(m_1['JPERF'],m_0['JPERF'],alternative='two-sided',value=0) "
      ],
      "execution_count": 8,
      "outputs": [
        {
          "output_type": "execute_result",
          "data": {
            "text/plain": [
              "(1.296372732868917, 0.21122206282829198, 18.0)"
            ]
          },
          "metadata": {
            "tags": []
          },
          "execution_count": 8
        }
      ]
    },
    {
      "cell_type": "markdown",
      "metadata": {
        "id": "ILksMQ5bQZuY",
        "colab_type": "text"
      },
      "source": [
        "**Observation:**\n",
        "- **T-Statistic:** 1.2963, is the difference **significant**??\n",
        "- **p-value:** 0.21>0.05, which means that we can reject the alternative hypothesis and accept the null hypothesis."
      ]
    },
    {
      "cell_type": "code",
      "metadata": {
        "id": "ASVP9uy4Q-ht",
        "colab_type": "code",
        "outputId": "6c46ba8e-0b8b-498b-fd6a-9604d9f800c9",
        "colab": {
          "base_uri": "https://localhost:8080/",
          "height": 300
        }
      },
      "source": [
        "jobtest.describe()"
      ],
      "execution_count": 9,
      "outputs": [
        {
          "output_type": "execute_result",
          "data": {
            "text/html": [
              "<div>\n",
              "<style scoped>\n",
              "    .dataframe tbody tr th:only-of-type {\n",
              "        vertical-align: middle;\n",
              "    }\n",
              "\n",
              "    .dataframe tbody tr th {\n",
              "        vertical-align: top;\n",
              "    }\n",
              "\n",
              "    .dataframe thead th {\n",
              "        text-align: right;\n",
              "    }\n",
              "</style>\n",
              "<table border=\"1\" class=\"dataframe\">\n",
              "  <thead>\n",
              "    <tr style=\"text-align: right;\">\n",
              "      <th></th>\n",
              "      <th>TEST</th>\n",
              "      <th>MINORITY</th>\n",
              "      <th>JPERF</th>\n",
              "    </tr>\n",
              "  </thead>\n",
              "  <tbody>\n",
              "    <tr>\n",
              "      <th>count</th>\n",
              "      <td>20.00000</td>\n",
              "      <td>20.000000</td>\n",
              "      <td>20.000000</td>\n",
              "    </tr>\n",
              "    <tr>\n",
              "      <th>mean</th>\n",
              "      <td>1.47150</td>\n",
              "      <td>0.500000</td>\n",
              "      <td>4.508500</td>\n",
              "    </tr>\n",
              "    <tr>\n",
              "      <th>std</th>\n",
              "      <td>0.67839</td>\n",
              "      <td>0.512989</td>\n",
              "      <td>2.227711</td>\n",
              "    </tr>\n",
              "    <tr>\n",
              "      <th>min</th>\n",
              "      <td>0.28000</td>\n",
              "      <td>0.000000</td>\n",
              "      <td>1.390000</td>\n",
              "    </tr>\n",
              "    <tr>\n",
              "      <th>25%</th>\n",
              "      <td>1.12000</td>\n",
              "      <td>0.000000</td>\n",
              "      <td>2.965000</td>\n",
              "    </tr>\n",
              "    <tr>\n",
              "      <th>50%</th>\n",
              "      <td>1.51500</td>\n",
              "      <td>0.500000</td>\n",
              "      <td>4.220000</td>\n",
              "    </tr>\n",
              "    <tr>\n",
              "      <th>75%</th>\n",
              "      <td>2.00750</td>\n",
              "      <td>1.000000</td>\n",
              "      <td>6.027500</td>\n",
              "    </tr>\n",
              "    <tr>\n",
              "      <th>max</th>\n",
              "      <td>2.51000</td>\n",
              "      <td>1.000000</td>\n",
              "      <td>8.140000</td>\n",
              "    </tr>\n",
              "  </tbody>\n",
              "</table>\n",
              "</div>"
            ],
            "text/plain": [
              "           TEST   MINORITY      JPERF\n",
              "count  20.00000  20.000000  20.000000\n",
              "mean    1.47150   0.500000   4.508500\n",
              "std     0.67839   0.512989   2.227711\n",
              "min     0.28000   0.000000   1.390000\n",
              "25%     1.12000   0.000000   2.965000\n",
              "50%     1.51500   0.500000   4.220000\n",
              "75%     2.00750   1.000000   6.027500\n",
              "max     2.51000   1.000000   8.140000"
            ]
          },
          "metadata": {
            "tags": []
          },
          "execution_count": 9
        }
      ]
    },
    {
      "cell_type": "markdown",
      "metadata": {
        "id": "AsfttROIRBmd",
        "colab_type": "text"
      },
      "source": [
        "**Classify them based on their Test Scores**"
      ]
    },
    {
      "cell_type": "code",
      "metadata": {
        "id": "rn2eC5KiRR2w",
        "colab_type": "code",
        "outputId": "afb2b3eb-3d51-4b8e-edfb-f8b4b184c32e",
        "colab": {
          "base_uri": "https://localhost:8080/",
          "height": 332
        }
      },
      "source": [
        "low_test = jobtest[jobtest['TEST']<1.5]\n",
        "high_test = jobtest[jobtest['TEST']>=1.5]\n",
        "\n",
        "low_test"
      ],
      "execution_count": 10,
      "outputs": [
        {
          "output_type": "execute_result",
          "data": {
            "text/html": [
              "<div>\n",
              "<style scoped>\n",
              "    .dataframe tbody tr th:only-of-type {\n",
              "        vertical-align: middle;\n",
              "    }\n",
              "\n",
              "    .dataframe tbody tr th {\n",
              "        vertical-align: top;\n",
              "    }\n",
              "\n",
              "    .dataframe thead th {\n",
              "        text-align: right;\n",
              "    }\n",
              "</style>\n",
              "<table border=\"1\" class=\"dataframe\">\n",
              "  <thead>\n",
              "    <tr style=\"text-align: right;\">\n",
              "      <th></th>\n",
              "      <th>TEST</th>\n",
              "      <th>MINORITY</th>\n",
              "      <th>JPERF</th>\n",
              "    </tr>\n",
              "  </thead>\n",
              "  <tbody>\n",
              "    <tr>\n",
              "      <th>0</th>\n",
              "      <td>0.28</td>\n",
              "      <td>1</td>\n",
              "      <td>1.83</td>\n",
              "    </tr>\n",
              "    <tr>\n",
              "      <th>1</th>\n",
              "      <td>0.97</td>\n",
              "      <td>1</td>\n",
              "      <td>4.59</td>\n",
              "    </tr>\n",
              "    <tr>\n",
              "      <th>2</th>\n",
              "      <td>1.25</td>\n",
              "      <td>1</td>\n",
              "      <td>2.97</td>\n",
              "    </tr>\n",
              "    <tr>\n",
              "      <th>5</th>\n",
              "      <td>1.17</td>\n",
              "      <td>1</td>\n",
              "      <td>3.30</td>\n",
              "    </tr>\n",
              "    <tr>\n",
              "      <th>7</th>\n",
              "      <td>1.21</td>\n",
              "      <td>1</td>\n",
              "      <td>2.03</td>\n",
              "    </tr>\n",
              "    <tr>\n",
              "      <th>12</th>\n",
              "      <td>0.45</td>\n",
              "      <td>0</td>\n",
              "      <td>1.39</td>\n",
              "    </tr>\n",
              "    <tr>\n",
              "      <th>16</th>\n",
              "      <td>1.25</td>\n",
              "      <td>0</td>\n",
              "      <td>5.85</td>\n",
              "    </tr>\n",
              "    <tr>\n",
              "      <th>17</th>\n",
              "      <td>0.72</td>\n",
              "      <td>0</td>\n",
              "      <td>1.90</td>\n",
              "    </tr>\n",
              "    <tr>\n",
              "      <th>18</th>\n",
              "      <td>0.42</td>\n",
              "      <td>0</td>\n",
              "      <td>3.85</td>\n",
              "    </tr>\n",
              "  </tbody>\n",
              "</table>\n",
              "</div>"
            ],
            "text/plain": [
              "    TEST  MINORITY  JPERF\n",
              "0   0.28         1   1.83\n",
              "1   0.97         1   4.59\n",
              "2   1.25         1   2.97\n",
              "5   1.17         1   3.30\n",
              "7   1.21         1   2.03\n",
              "12  0.45         0   1.39\n",
              "16  1.25         0   5.85\n",
              "17  0.72         0   1.90\n",
              "18  0.42         0   3.85"
            ]
          },
          "metadata": {
            "tags": []
          },
          "execution_count": 10
        }
      ]
    },
    {
      "cell_type": "markdown",
      "metadata": {
        "id": "AkI1n9lPRjDi",
        "colab_type": "text"
      },
      "source": [
        "**Using Independant Sample T-Test to check of there is a difference between the Job Performance score between Low Test Score and High Test Score Employees**"
      ]
    },
    {
      "cell_type": "markdown",
      "metadata": {
        "id": "u9gOCLzGSLrL",
        "colab_type": "text"
      },
      "source": [
        "- $H_0:$ There is no difference in Job Performace.\n",
        "- $H_1:$ There is difference in Job Performance between Low and High Test Scoring Employees."
      ]
    },
    {
      "cell_type": "code",
      "metadata": {
        "id": "TXYMHA7LR2bM",
        "colab_type": "code",
        "outputId": "c66787a1-df38-484b-dd38-406cd72f0d6e",
        "colab": {
          "base_uri": "https://localhost:8080/",
          "height": 35
        }
      },
      "source": [
        "ttest_ind(high_test['JPERF'],low_test['JPERF'],alternative='two-sided',value=0)"
      ],
      "execution_count": 11,
      "outputs": [
        {
          "output_type": "execute_result",
          "data": {
            "text/plain": [
              "(3.1453782341253196, 0.005594750418932361, 18.0)"
            ]
          },
          "metadata": {
            "tags": []
          },
          "execution_count": 11
        }
      ]
    },
    {
      "cell_type": "markdown",
      "metadata": {
        "id": "g6NhEmCSSH57",
        "colab_type": "text"
      },
      "source": [
        "**Observation:**\n",
        "- **T-Statistic:** 3.1453, there is a difference, However is the difference significant?\n",
        "- **p-value:** 0.005 < 0.05,The Result is Significant. Hence we reject the null Hypothesis$(H_0)$ and accept the alternate Hypothesis$(H_1)$."
      ]
    },
    {
      "cell_type": "markdown",
      "metadata": {
        "id": "lwl4iTQrTR1j",
        "colab_type": "text"
      },
      "source": [
        "## One Way ANOVA"
      ]
    },
    {
      "cell_type": "markdown",
      "metadata": {
        "id": "_VwX9cg0uE54",
        "colab_type": "text"
      },
      "source": [
        "- Perform OLS regression\n",
        "- Test significance of regression results using one way and two way ANOVA."
      ]
    },
    {
      "cell_type": "code",
      "metadata": {
        "id": "A7iiDMuVuOyj",
        "colab_type": "code",
        "colab": {}
      },
      "source": [
        "from statsmodels.formula.api import ols\n",
        "from statsmodels.graphics.api import interaction_plot,abline_plot\n",
        "from statsmodels.stats.anova import anova_lm"
      ],
      "execution_count": 0,
      "outputs": []
    },
    {
      "cell_type": "code",
      "metadata": {
        "id": "Jt4jnrUquoWb",
        "colab_type": "code",
        "outputId": "9b44f91f-ff23-4a1c-c92d-d8bd25232be1",
        "colab": {
          "base_uri": "https://localhost:8080/",
          "height": 677
        }
      },
      "source": [
        "jobtest"
      ],
      "execution_count": 13,
      "outputs": [
        {
          "output_type": "execute_result",
          "data": {
            "text/html": [
              "<div>\n",
              "<style scoped>\n",
              "    .dataframe tbody tr th:only-of-type {\n",
              "        vertical-align: middle;\n",
              "    }\n",
              "\n",
              "    .dataframe tbody tr th {\n",
              "        vertical-align: top;\n",
              "    }\n",
              "\n",
              "    .dataframe thead th {\n",
              "        text-align: right;\n",
              "    }\n",
              "</style>\n",
              "<table border=\"1\" class=\"dataframe\">\n",
              "  <thead>\n",
              "    <tr style=\"text-align: right;\">\n",
              "      <th></th>\n",
              "      <th>TEST</th>\n",
              "      <th>MINORITY</th>\n",
              "      <th>JPERF</th>\n",
              "    </tr>\n",
              "  </thead>\n",
              "  <tbody>\n",
              "    <tr>\n",
              "      <th>0</th>\n",
              "      <td>0.28</td>\n",
              "      <td>1</td>\n",
              "      <td>1.83</td>\n",
              "    </tr>\n",
              "    <tr>\n",
              "      <th>1</th>\n",
              "      <td>0.97</td>\n",
              "      <td>1</td>\n",
              "      <td>4.59</td>\n",
              "    </tr>\n",
              "    <tr>\n",
              "      <th>2</th>\n",
              "      <td>1.25</td>\n",
              "      <td>1</td>\n",
              "      <td>2.97</td>\n",
              "    </tr>\n",
              "    <tr>\n",
              "      <th>3</th>\n",
              "      <td>2.46</td>\n",
              "      <td>1</td>\n",
              "      <td>8.14</td>\n",
              "    </tr>\n",
              "    <tr>\n",
              "      <th>4</th>\n",
              "      <td>2.51</td>\n",
              "      <td>1</td>\n",
              "      <td>8.00</td>\n",
              "    </tr>\n",
              "    <tr>\n",
              "      <th>5</th>\n",
              "      <td>1.17</td>\n",
              "      <td>1</td>\n",
              "      <td>3.30</td>\n",
              "    </tr>\n",
              "    <tr>\n",
              "      <th>6</th>\n",
              "      <td>1.78</td>\n",
              "      <td>1</td>\n",
              "      <td>7.53</td>\n",
              "    </tr>\n",
              "    <tr>\n",
              "      <th>7</th>\n",
              "      <td>1.21</td>\n",
              "      <td>1</td>\n",
              "      <td>2.03</td>\n",
              "    </tr>\n",
              "    <tr>\n",
              "      <th>8</th>\n",
              "      <td>1.63</td>\n",
              "      <td>1</td>\n",
              "      <td>5.00</td>\n",
              "    </tr>\n",
              "    <tr>\n",
              "      <th>9</th>\n",
              "      <td>1.98</td>\n",
              "      <td>1</td>\n",
              "      <td>8.04</td>\n",
              "    </tr>\n",
              "    <tr>\n",
              "      <th>10</th>\n",
              "      <td>2.36</td>\n",
              "      <td>0</td>\n",
              "      <td>3.25</td>\n",
              "    </tr>\n",
              "    <tr>\n",
              "      <th>11</th>\n",
              "      <td>2.11</td>\n",
              "      <td>0</td>\n",
              "      <td>5.30</td>\n",
              "    </tr>\n",
              "    <tr>\n",
              "      <th>12</th>\n",
              "      <td>0.45</td>\n",
              "      <td>0</td>\n",
              "      <td>1.39</td>\n",
              "    </tr>\n",
              "    <tr>\n",
              "      <th>13</th>\n",
              "      <td>1.76</td>\n",
              "      <td>0</td>\n",
              "      <td>4.69</td>\n",
              "    </tr>\n",
              "    <tr>\n",
              "      <th>14</th>\n",
              "      <td>2.09</td>\n",
              "      <td>0</td>\n",
              "      <td>6.56</td>\n",
              "    </tr>\n",
              "    <tr>\n",
              "      <th>15</th>\n",
              "      <td>1.50</td>\n",
              "      <td>0</td>\n",
              "      <td>3.00</td>\n",
              "    </tr>\n",
              "    <tr>\n",
              "      <th>16</th>\n",
              "      <td>1.25</td>\n",
              "      <td>0</td>\n",
              "      <td>5.85</td>\n",
              "    </tr>\n",
              "    <tr>\n",
              "      <th>17</th>\n",
              "      <td>0.72</td>\n",
              "      <td>0</td>\n",
              "      <td>1.90</td>\n",
              "    </tr>\n",
              "    <tr>\n",
              "      <th>18</th>\n",
              "      <td>0.42</td>\n",
              "      <td>0</td>\n",
              "      <td>3.85</td>\n",
              "    </tr>\n",
              "    <tr>\n",
              "      <th>19</th>\n",
              "      <td>1.53</td>\n",
              "      <td>0</td>\n",
              "      <td>2.95</td>\n",
              "    </tr>\n",
              "  </tbody>\n",
              "</table>\n",
              "</div>"
            ],
            "text/plain": [
              "    TEST  MINORITY  JPERF\n",
              "0   0.28         1   1.83\n",
              "1   0.97         1   4.59\n",
              "2   1.25         1   2.97\n",
              "3   2.46         1   8.14\n",
              "4   2.51         1   8.00\n",
              "5   1.17         1   3.30\n",
              "6   1.78         1   7.53\n",
              "7   1.21         1   2.03\n",
              "8   1.63         1   5.00\n",
              "9   1.98         1   8.04\n",
              "10  2.36         0   3.25\n",
              "11  2.11         0   5.30\n",
              "12  0.45         0   1.39\n",
              "13  1.76         0   4.69\n",
              "14  2.09         0   6.56\n",
              "15  1.50         0   3.00\n",
              "16  1.25         0   5.85\n",
              "17  0.72         0   1.90\n",
              "18  0.42         0   3.85\n",
              "19  1.53         0   2.95"
            ]
          },
          "metadata": {
            "tags": []
          },
          "execution_count": 13
        }
      ]
    },
    {
      "cell_type": "code",
      "metadata": {
        "id": "xc-EIbQUusLh",
        "colab_type": "code",
        "colab": {}
      },
      "source": [
        "factor_group = jobtest.groupby('MINORITY')"
      ],
      "execution_count": 0,
      "outputs": []
    },
    {
      "cell_type": "code",
      "metadata": {
        "id": "4cLTL8Pwu6Lt",
        "colab_type": "code",
        "outputId": "4a0cd14a-b0eb-4515-98f2-812168bff48d",
        "colab": {
          "base_uri": "https://localhost:8080/",
          "height": 606
        }
      },
      "source": [
        "fig ,ax = plt.subplots(figsize=(10,10))\n",
        "colors = ['purple','green']\n",
        "markers = ['o','v']\n",
        "\n",
        "for factor, group in factor_group:\n",
        "  ax.scatter(group['TEST'],group['JPERF'],color=colors[factor],marker = markers[factor],s=12**2,label=factor)\n",
        "\n",
        "ax.set_xlabel('TEST')\n",
        "ax.set_ylabel('JPREF')\n",
        "plt.legend(loc='best')\n",
        "plt.show()"
      ],
      "execution_count": 15,
      "outputs": [
        {
          "output_type": "display_data",
          "data": {
            "image/png": "[encoded data removed]",
            "text/plain": [
              "<Figure size 720x720 with 1 Axes>"
            ]
          },
          "metadata": {
            "tags": []
          }
        }
      ]
    },
    {
      "cell_type": "markdown",
      "metadata": {
        "id": "g0KH0AEA1i3T",
        "colab_type": "text"
      },
      "source": [
        "**Job Performance with respect to the Minority**"
      ]
    },
    {
      "cell_type": "code",
      "metadata": {
        "id": "VF1ZbnkmvPkU",
        "colab_type": "code",
        "outputId": "95d6e193-6133-4039-e87d-84371e0c856f",
        "colab": {
          "base_uri": "https://localhost:8080/",
          "height": 476
        }
      },
      "source": [
        "model_ols_minority = ols('JPERF ~ C(MINORITY)',data=jobtest).fit()\n",
        "print(model_ols_minority.summary())"
      ],
      "execution_count": 16,
      "outputs": [
        {
          "output_type": "stream",
          "text": [
            "                            OLS Regression Results                            \n",
            "==============================================================================\n",
            "Dep. Variable:                  JPERF   R-squared:                       0.085\n",
            "Model:                            OLS   Adj. R-squared:                  0.035\n",
            "Method:                 Least Squares   F-statistic:                     1.681\n",
            "Date:                Fri, 10 Apr 2020   Prob (F-statistic):              0.211\n",
            "Time:                        14:42:59   Log-Likelihood:                -42.993\n",
            "No. Observations:                  20   AIC:                             89.99\n",
            "Df Residuals:                      18   BIC:                             91.98\n",
            "Df Model:                           1                                         \n",
            "Covariance Type:            nonrobust                                         \n",
            "====================================================================================\n",
            "                       coef    std err          t      P>|t|      [0.025      0.975]\n",
            "------------------------------------------------------------------------------------\n",
            "Intercept            3.8740      0.692      5.597      0.000       2.420       5.328\n",
            "C(MINORITY)[T.1]     1.2690      0.979      1.296      0.211      -0.788       3.326\n",
            "==============================================================================\n",
            "Omnibus:                        4.396   Durbin-Watson:                   2.465\n",
            "Prob(Omnibus):                  0.111   Jarque-Bera (JB):                1.462\n",
            "Skew:                           0.060   Prob(JB):                        0.481\n",
            "Kurtosis:                       1.681   Cond. No.                         2.62\n",
            "==============================================================================\n",
            "\n",
            "Warnings:\n",
            "[1] Standard Errors assume that the covariance matrix of the errors is correctly specified.\n"
          ],
          "name": "stdout"
        }
      ]
    },
    {
      "cell_type": "markdown",
      "metadata": {
        "id": "9R1xVHdpyk1M",
        "colab_type": "text"
      },
      "source": [
        "**Observation:**\n",
        "- Method : Least Squares\n",
        "- T Statistic value is given and the p-value for T Statistic is more than the significant value and hence we reject the alternative hypothesis.\n",
        "- The F Statistic values is 1.681\n",
        "- The P-value for F Statistic is also 0.21 which is greater than significant value of 0.05 and hence, we reject alternative hypothesis as a whole for the regression line."
      ]
    },
    {
      "cell_type": "markdown",
      "metadata": {
        "id": "SnUzmSctz2qu",
        "colab_type": "text"
      },
      "source": [
        "**Plotting the Regression Line formed by Linear Model**"
      ]
    },
    {
      "cell_type": "code",
      "metadata": {
        "id": "D7u4vVNxz9x7",
        "colab_type": "code",
        "outputId": "34ae3b54-1545-461f-c303-472f6e0891c7",
        "colab": {
          "base_uri": "https://localhost:8080/",
          "height": 606
        }
      },
      "source": [
        "fig, ax = plt.subplots(figsize=(10,10))\n",
        "\n",
        "for factor, group in factor_group:\n",
        "  ax.scatter(group['TEST'], group['JPERF'], color=colors[factor], marker=markers[factor], s=12**2, label=factor)\n",
        "ax.set_xlabel('TEST')\n",
        "ax.set_ylabel('JPREF')\n",
        "\n",
        "fig = abline_plot(model_results=model_ols_minority, ax=ax)\n",
        "plt.legend(loc='best')\n",
        "plt.show()"
      ],
      "execution_count": 17,
      "outputs": [
        {
          "output_type": "display_data",
          "data": {
            "image/png": "[encoded data removed]",
            "text/plain": [
              "<Figure size 720x720 with 1 Axes>"
            ]
          },
          "metadata": {
            "tags": []
          }
        }
      ]
    },
    {
      "cell_type": "markdown",
      "metadata": {
        "id": "RTHwI_n601f1",
        "colab_type": "text"
      },
      "source": [
        "**Job Performance with respect to the Test Score**"
      ]
    },
    {
      "cell_type": "code",
      "metadata": {
        "id": "ZHyOyu1510G7",
        "colab_type": "code",
        "outputId": "7baaaa71-ba5a-4b66-dd9e-67e907a4787d",
        "colab": {
          "base_uri": "https://localhost:8080/",
          "height": 476
        }
      },
      "source": [
        "model_ols_test = ols('JPERF ~ TEST',data=jobtest).fit()\n",
        "print(model_ols_test.summary())"
      ],
      "execution_count": 18,
      "outputs": [
        {
          "output_type": "stream",
          "text": [
            "                            OLS Regression Results                            \n",
            "==============================================================================\n",
            "Dep. Variable:                  JPERF   R-squared:                       0.517\n",
            "Model:                            OLS   Adj. R-squared:                  0.490\n",
            "Method:                 Least Squares   F-statistic:                     19.25\n",
            "Date:                Fri, 10 Apr 2020   Prob (F-statistic):           0.000356\n",
            "Time:                        14:42:59   Log-Likelihood:                -36.614\n",
            "No. Observations:                  20   AIC:                             77.23\n",
            "Df Residuals:                      18   BIC:                             79.22\n",
            "Df Model:                           1                                         \n",
            "Covariance Type:            nonrobust                                         \n",
            "==============================================================================\n",
            "                 coef    std err          t      P>|t|      [0.025      0.975]\n",
            "------------------------------------------------------------------------------\n",
            "Intercept      1.0350      0.868      1.192      0.249      -0.789       2.859\n",
            "TEST           2.3605      0.538      4.387      0.000       1.230       3.491\n",
            "==============================================================================\n",
            "Omnibus:                        0.324   Durbin-Watson:                   2.896\n",
            "Prob(Omnibus):                  0.850   Jarque-Bera (JB):                0.483\n",
            "Skew:                          -0.186   Prob(JB):                        0.785\n",
            "Kurtosis:                       2.336   Cond. No.                         5.26\n",
            "==============================================================================\n",
            "\n",
            "Warnings:\n",
            "[1] Standard Errors assume that the covariance matrix of the errors is correctly specified.\n"
          ],
          "name": "stdout"
        }
      ]
    },
    {
      "cell_type": "markdown",
      "metadata": {
        "id": "e5oNSZXe2Cfm",
        "colab_type": "text"
      },
      "source": [
        "**Observation:**\n",
        "- The T Statistic value for the test variable, is 4.387\n",
        "- The p-value for the T Statistic is less than significance value, Hence we accept alternate hypothesis.\n",
        "- The F Statistic value is 19.25\n",
        "- The p-value for F Statistic is less than the significant value and hence its significant.\n"
      ]
    },
    {
      "cell_type": "code",
      "metadata": {
        "id": "yC-pAqKT2zOO",
        "colab_type": "code",
        "outputId": "b852ff44-361e-45b2-f09e-adb75e1c7252",
        "colab": {
          "base_uri": "https://localhost:8080/",
          "height": 606
        }
      },
      "source": [
        "fig, ax = plt.subplots(figsize=(10,10))\n",
        "\n",
        "for factor, group in factor_group:\n",
        "  ax.scatter(group['TEST'], group['JPERF'], color=colors[factor], marker=markers[factor], s=12**2, label=factor)\n",
        "ax.set_xlabel('TEST')\n",
        "ax.set_ylabel('JPREF')\n",
        "\n",
        "fig = abline_plot(model_results=model_ols_test, ax=ax)\n",
        "plt.legend(loc='best')\n",
        "plt.show()"
      ],
      "execution_count": 19,
      "outputs": [
        {
          "output_type": "display_data",
          "data": {
            "image/png": "[encoded data removed]",
            "text/plain": [
              "<Figure size 720x720 with 1 Axes>"
            ]
          },
          "metadata": {
            "tags": []
          }
        }
      ]
    },
    {
      "cell_type": "markdown",
      "metadata": {
        "id": "1Adplf6j3T1E",
        "colab_type": "text"
      },
      "source": [
        "- The ANOVA analysis is performed as a part of regression.\n",
        "- We can do it seperatly."
      ]
    },
    {
      "cell_type": "code",
      "metadata": {
        "id": "UMIb4v5c3lYZ",
        "colab_type": "code",
        "outputId": "490bbb92-03f8-4676-c5e6-773ac4969469",
        "colab": {
          "base_uri": "https://localhost:8080/",
          "height": 72
        }
      },
      "source": [
        "anova_minority = anova_lm(model_ols_minority)\n",
        "print(anova_minority)"
      ],
      "execution_count": 20,
      "outputs": [
        {
          "output_type": "stream",
          "text": [
            "               df     sum_sq   mean_sq         F    PR(>F)\n",
            "C(MINORITY)   1.0   8.051805  8.051805  1.680582  0.211222\n",
            "Residual     18.0  86.239450  4.791081       NaN       NaN\n"
          ],
          "name": "stdout"
        }
      ]
    },
    {
      "cell_type": "markdown",
      "metadata": {
        "id": "cdCMVwTg3v2L",
        "colab_type": "text"
      },
      "source": [
        "**Observation:**\n",
        "- Minority Column is not significant and we have to accept null hypothesis, that there is no difference in Job Performance"
      ]
    },
    {
      "cell_type": "code",
      "metadata": {
        "id": "47hXlZEB4GJ1",
        "colab_type": "code",
        "outputId": "99d2bd5f-e612-463e-adce-d19b560f26db",
        "colab": {
          "base_uri": "https://localhost:8080/",
          "height": 72
        }
      },
      "source": [
        "anova_test = anova_lm(model_ols_test)\n",
        "print(anova_test)"
      ],
      "execution_count": 21,
      "outputs": [
        {
          "output_type": "stream",
          "text": [
            "            df     sum_sq    mean_sq          F    PR(>F)\n",
            "TEST       1.0  48.722958  48.722958  19.246127  0.000356\n",
            "Residual  18.0  45.568297   2.531572        NaN       NaN\n"
          ],
          "name": "stdout"
        }
      ]
    },
    {
      "cell_type": "markdown",
      "metadata": {
        "id": "S7sADfQ14Oil",
        "colab_type": "text"
      },
      "source": [
        "**Observation:**\n",
        "- Test column is significant and we have to accept the Alternate Hypothesis and there is a difference in Job Performance Score based on Test Score."
      ]
    },
    {
      "cell_type": "markdown",
      "metadata": {
        "id": "SeCrTsoV4cTz",
        "colab_type": "text"
      },
      "source": [
        "## Two Way ANOVA"
      ]
    },
    {
      "cell_type": "markdown",
      "metadata": {
        "id": "WsFl3sfc85R-",
        "colab_type": "text"
      },
      "source": [
        "**Linear Model for Individual Columns**"
      ]
    },
    {
      "cell_type": "code",
      "metadata": {
        "id": "5JTRT2py4zaI",
        "colab_type": "code",
        "outputId": "bf7b29a6-837e-4ef2-ebf0-3d44936f7bc9",
        "colab": {
          "base_uri": "https://localhost:8080/",
          "height": 495
        }
      },
      "source": [
        "model_ols_nointeraction = ols('JPERF ~ TEST + MINORITY',data=jobtest).fit()\n",
        "print(model_ols_nointeraction.summary())"
      ],
      "execution_count": 22,
      "outputs": [
        {
          "output_type": "stream",
          "text": [
            "                            OLS Regression Results                            \n",
            "==============================================================================\n",
            "Dep. Variable:                  JPERF   R-squared:                       0.572\n",
            "Model:                            OLS   Adj. R-squared:                  0.522\n",
            "Method:                 Least Squares   F-statistic:                     11.38\n",
            "Date:                Fri, 10 Apr 2020   Prob (F-statistic):           0.000731\n",
            "Time:                        14:42:59   Log-Likelihood:                -35.390\n",
            "No. Observations:                  20   AIC:                             76.78\n",
            "Df Residuals:                      17   BIC:                             79.77\n",
            "Df Model:                           2                                         \n",
            "Covariance Type:            nonrobust                                         \n",
            "==============================================================================\n",
            "                 coef    std err          t      P>|t|      [0.025      0.975]\n",
            "------------------------------------------------------------------------------\n",
            "Intercept      0.6120      0.887      0.690      0.500      -1.260       2.483\n",
            "TEST           2.2988      0.522      4.400      0.000       1.197       3.401\n",
            "MINORITY       1.0276      0.691      1.487      0.155      -0.430       2.485\n",
            "==============================================================================\n",
            "Omnibus:                        0.251   Durbin-Watson:                   3.028\n",
            "Prob(Omnibus):                  0.882   Jarque-Bera (JB):                0.437\n",
            "Skew:                          -0.059   Prob(JB):                        0.804\n",
            "Kurtosis:                       2.286   Cond. No.                         5.72\n",
            "==============================================================================\n",
            "\n",
            "Warnings:\n",
            "[1] Standard Errors assume that the covariance matrix of the errors is correctly specified.\n"
          ],
          "name": "stdout"
        }
      ]
    },
    {
      "cell_type": "markdown",
      "metadata": {
        "id": "nBJuOsL45Bgl",
        "colab_type": "text"
      },
      "source": [
        "**Observation:**\n",
        "- The TEST columns is significant, However the Minority Column is not Significant.\n",
        "- However, the model as a whole is Significant."
      ]
    },
    {
      "cell_type": "markdown",
      "metadata": {
        "id": "mSD6fvgQ9Agr",
        "colab_type": "text"
      },
      "source": [
        "**Linear Model for Individual Columns and Interaction between TEST and MINORITY**"
      ]
    },
    {
      "cell_type": "code",
      "metadata": {
        "id": "KLSP3jEZ5bNC",
        "colab_type": "code",
        "outputId": "5d4e7d77-226a-493d-b46d-956817216c52",
        "colab": {
          "base_uri": "https://localhost:8080/",
          "height": 513
        }
      },
      "source": [
        "model_ols_interaction = ols('JPERF ~ TEST + MINORITY + TEST:MINORITY',data=jobtest).fit()\n",
        "print(model_ols_interaction.summary())"
      ],
      "execution_count": 23,
      "outputs": [
        {
          "output_type": "stream",
          "text": [
            "                            OLS Regression Results                            \n",
            "==============================================================================\n",
            "Dep. Variable:                  JPERF   R-squared:                       0.664\n",
            "Model:                            OLS   Adj. R-squared:                  0.601\n",
            "Method:                 Least Squares   F-statistic:                     10.55\n",
            "Date:                Fri, 10 Apr 2020   Prob (F-statistic):           0.000451\n",
            "Time:                        14:43:00   Log-Likelihood:                -32.971\n",
            "No. Observations:                  20   AIC:                             73.94\n",
            "Df Residuals:                      16   BIC:                             77.92\n",
            "Df Model:                           3                                         \n",
            "Covariance Type:            nonrobust                                         \n",
            "=================================================================================\n",
            "                    coef    std err          t      P>|t|      [0.025      0.975]\n",
            "---------------------------------------------------------------------------------\n",
            "Intercept         2.0103      1.050      1.914      0.074      -0.216       4.236\n",
            "TEST              1.3134      0.670      1.959      0.068      -0.108       2.735\n",
            "MINORITY         -1.9132      1.540     -1.242      0.232      -5.179       1.352\n",
            "TEST:MINORITY     1.9975      0.954      2.093      0.053      -0.026       4.021\n",
            "==============================================================================\n",
            "Omnibus:                        3.377   Durbin-Watson:                   3.015\n",
            "Prob(Omnibus):                  0.185   Jarque-Bera (JB):                1.330\n",
            "Skew:                           0.120   Prob(JB):                        0.514\n",
            "Kurtosis:                       1.760   Cond. No.                         13.8\n",
            "==============================================================================\n",
            "\n",
            "Warnings:\n",
            "[1] Standard Errors assume that the covariance matrix of the errors is correctly specified.\n"
          ],
          "name": "stdout"
        }
      ]
    },
    {
      "cell_type": "markdown",
      "metadata": {
        "id": "ehMbIVtS5trv",
        "colab_type": "text"
      },
      "source": [
        "**Observation:**\n",
        "- Here the Test Columns values is slightly above significance level, and the MINORITY Column values is not significant.\n",
        "- The Interaction betweek the TEST and MINORITY is Highly Significant.\n",
        "- The overall regression is significant."
      ]
    },
    {
      "cell_type": "code",
      "metadata": {
        "id": "-bDsb7ZU6pBX",
        "colab_type": "code",
        "outputId": "ef63c865-63e9-4adc-aa61-dd8f25b29b26",
        "colab": {
          "base_uri": "https://localhost:8080/",
          "height": 143
        }
      },
      "source": [
        "anova_lm(model_ols_nointeraction)"
      ],
      "execution_count": 24,
      "outputs": [
        {
          "output_type": "execute_result",
          "data": {
            "text/html": [
              "<div>\n",
              "<style scoped>\n",
              "    .dataframe tbody tr th:only-of-type {\n",
              "        vertical-align: middle;\n",
              "    }\n",
              "\n",
              "    .dataframe tbody tr th {\n",
              "        vertical-align: top;\n",
              "    }\n",
              "\n",
              "    .dataframe thead th {\n",
              "        text-align: right;\n",
              "    }\n",
              "</style>\n",
              "<table border=\"1\" class=\"dataframe\">\n",
              "  <thead>\n",
              "    <tr style=\"text-align: right;\">\n",
              "      <th></th>\n",
              "      <th>df</th>\n",
              "      <th>sum_sq</th>\n",
              "      <th>mean_sq</th>\n",
              "      <th>F</th>\n",
              "      <th>PR(&gt;F)</th>\n",
              "    </tr>\n",
              "  </thead>\n",
              "  <tbody>\n",
              "    <tr>\n",
              "      <th>TEST</th>\n",
              "      <td>1.0</td>\n",
              "      <td>48.722958</td>\n",
              "      <td>48.722958</td>\n",
              "      <td>20.542126</td>\n",
              "      <td>0.000295</td>\n",
              "    </tr>\n",
              "    <tr>\n",
              "      <th>MINORITY</th>\n",
              "      <td>1.0</td>\n",
              "      <td>5.246751</td>\n",
              "      <td>5.246751</td>\n",
              "      <td>2.212087</td>\n",
              "      <td>0.155246</td>\n",
              "    </tr>\n",
              "    <tr>\n",
              "      <th>Residual</th>\n",
              "      <td>17.0</td>\n",
              "      <td>40.321546</td>\n",
              "      <td>2.371856</td>\n",
              "      <td>NaN</td>\n",
              "      <td>NaN</td>\n",
              "    </tr>\n",
              "  </tbody>\n",
              "</table>\n",
              "</div>"
            ],
            "text/plain": [
              "            df     sum_sq    mean_sq          F    PR(>F)\n",
              "TEST       1.0  48.722958  48.722958  20.542126  0.000295\n",
              "MINORITY   1.0   5.246751   5.246751   2.212087  0.155246\n",
              "Residual  17.0  40.321546   2.371856        NaN       NaN"
            ]
          },
          "metadata": {
            "tags": []
          },
          "execution_count": 24
        }
      ]
    },
    {
      "cell_type": "markdown",
      "metadata": {
        "id": "phAVA1Sk6tOQ",
        "colab_type": "text"
      },
      "source": [
        "**Observation:**\n",
        "- The TEST scores are significant.\n",
        "- The MINORITY is not significant."
      ]
    },
    {
      "cell_type": "code",
      "metadata": {
        "id": "zN0hZqkY7MLw",
        "colab_type": "code",
        "outputId": "b1ce351e-14f7-4699-f15e-57e04522c1f6",
        "colab": {
          "base_uri": "https://localhost:8080/",
          "height": 175
        }
      },
      "source": [
        "anova_lm(model_ols_interaction)"
      ],
      "execution_count": 25,
      "outputs": [
        {
          "output_type": "execute_result",
          "data": {
            "text/html": [
              "<div>\n",
              "<style scoped>\n",
              "    .dataframe tbody tr th:only-of-type {\n",
              "        vertical-align: middle;\n",
              "    }\n",
              "\n",
              "    .dataframe tbody tr th {\n",
              "        vertical-align: top;\n",
              "    }\n",
              "\n",
              "    .dataframe thead th {\n",
              "        text-align: right;\n",
              "    }\n",
              "</style>\n",
              "<table border=\"1\" class=\"dataframe\">\n",
              "  <thead>\n",
              "    <tr style=\"text-align: right;\">\n",
              "      <th></th>\n",
              "      <th>df</th>\n",
              "      <th>sum_sq</th>\n",
              "      <th>mean_sq</th>\n",
              "      <th>F</th>\n",
              "      <th>PR(&gt;F)</th>\n",
              "    </tr>\n",
              "  </thead>\n",
              "  <tbody>\n",
              "    <tr>\n",
              "      <th>TEST</th>\n",
              "      <td>1.0</td>\n",
              "      <td>48.722958</td>\n",
              "      <td>48.722958</td>\n",
              "      <td>24.626621</td>\n",
              "      <td>0.000141</td>\n",
              "    </tr>\n",
              "    <tr>\n",
              "      <th>MINORITY</th>\n",
              "      <td>1.0</td>\n",
              "      <td>5.246751</td>\n",
              "      <td>5.246751</td>\n",
              "      <td>2.651927</td>\n",
              "      <td>0.122952</td>\n",
              "    </tr>\n",
              "    <tr>\n",
              "      <th>TEST:MINORITY</th>\n",
              "      <td>1.0</td>\n",
              "      <td>8.666073</td>\n",
              "      <td>8.666073</td>\n",
              "      <td>4.380196</td>\n",
              "      <td>0.052650</td>\n",
              "    </tr>\n",
              "    <tr>\n",
              "      <th>Residual</th>\n",
              "      <td>16.0</td>\n",
              "      <td>31.655473</td>\n",
              "      <td>1.978467</td>\n",
              "      <td>NaN</td>\n",
              "      <td>NaN</td>\n",
              "    </tr>\n",
              "  </tbody>\n",
              "</table>\n",
              "</div>"
            ],
            "text/plain": [
              "                 df     sum_sq    mean_sq          F    PR(>F)\n",
              "TEST            1.0  48.722958  48.722958  24.626621  0.000141\n",
              "MINORITY        1.0   5.246751   5.246751   2.651927  0.122952\n",
              "TEST:MINORITY   1.0   8.666073   8.666073   4.380196  0.052650\n",
              "Residual       16.0  31.655473   1.978467        NaN       NaN"
            ]
          },
          "metadata": {
            "tags": []
          },
          "execution_count": 25
        }
      ]
    },
    {
      "cell_type": "markdown",
      "metadata": {
        "id": "AcM9smmR8Yb1",
        "colab_type": "text"
      },
      "source": [
        "**Observation:**\n",
        "- The Test  Score and the interaction between the TEST and Minority are significant.\n",
        "- The MINORITY alone is not significant."
      ]
    },
    {
      "cell_type": "markdown",
      "metadata": {
        "id": "Yccly8pX8uPh",
        "colab_type": "text"
      },
      "source": [
        "**Linear Model for Only Test and Interaction Between Test and Minority Columns**"
      ]
    },
    {
      "cell_type": "code",
      "metadata": {
        "id": "oBAmWynl9PDQ",
        "colab_type": "code",
        "outputId": "111900a4-2236-41fb-f149-4cfe2a35f4d0",
        "colab": {
          "base_uri": "https://localhost:8080/",
          "height": 495
        }
      },
      "source": [
        "model_ols_testinteraction = ols('JPERF ~ TEST + TEST:MINORITY',data=jobtest).fit()\n",
        "print(model_ols_testinteraction.summary())"
      ],
      "execution_count": 26,
      "outputs": [
        {
          "output_type": "stream",
          "text": [
            "                            OLS Regression Results                            \n",
            "==============================================================================\n",
            "Dep. Variable:                  JPERF   R-squared:                       0.632\n",
            "Model:                            OLS   Adj. R-squared:                  0.589\n",
            "Method:                 Least Squares   F-statistic:                     14.59\n",
            "Date:                Fri, 10 Apr 2020   Prob (F-statistic):           0.000204\n",
            "Time:                        14:43:00   Log-Likelihood:                -33.891\n",
            "No. Observations:                  20   AIC:                             73.78\n",
            "Df Residuals:                      17   BIC:                             76.77\n",
            "Df Model:                           2                                         \n",
            "Covariance Type:            nonrobust                                         \n",
            "=================================================================================\n",
            "                    coef    std err          t      P>|t|      [0.025      0.975]\n",
            "---------------------------------------------------------------------------------\n",
            "Intercept         1.1211      0.780      1.437      0.169      -0.525       2.768\n",
            "TEST              1.8276      0.536      3.412      0.003       0.698       2.958\n",
            "TEST:MINORITY     0.9161      0.397      2.306      0.034       0.078       1.754\n",
            "==============================================================================\n",
            "Omnibus:                        0.388   Durbin-Watson:                   3.008\n",
            "Prob(Omnibus):                  0.823   Jarque-Bera (JB):                0.514\n",
            "Skew:                           0.050   Prob(JB):                        0.773\n",
            "Kurtosis:                       2.221   Cond. No.                         5.96\n",
            "==============================================================================\n",
            "\n",
            "Warnings:\n",
            "[1] Standard Errors assume that the covariance matrix of the errors is correctly specified.\n"
          ],
          "name": "stdout"
        }
      ]
    },
    {
      "cell_type": "markdown",
      "metadata": {
        "id": "n6TLRBM19ca0",
        "colab_type": "text"
      },
      "source": [
        "**Observations:**\n",
        "- The p-value for both the conditions are significant.\n",
        "- We accept the alternative hypothesis.\n",
        "- The Model as a whole is also significant."
      ]
    },
    {
      "cell_type": "code",
      "metadata": {
        "id": "unpSaTgS-QUI",
        "colab_type": "code",
        "outputId": "0e3524a6-aa66-4ee5-acab-a58a31f492e8",
        "colab": {
          "base_uri": "https://localhost:8080/",
          "height": 112
        }
      },
      "source": [
        "anova_lm(model_ols_test, model_ols_nointeraction)"
      ],
      "execution_count": 27,
      "outputs": [
        {
          "output_type": "execute_result",
          "data": {
            "text/html": [
              "<div>\n",
              "<style scoped>\n",
              "    .dataframe tbody tr th:only-of-type {\n",
              "        vertical-align: middle;\n",
              "    }\n",
              "\n",
              "    .dataframe tbody tr th {\n",
              "        vertical-align: top;\n",
              "    }\n",
              "\n",
              "    .dataframe thead th {\n",
              "        text-align: right;\n",
              "    }\n",
              "</style>\n",
              "<table border=\"1\" class=\"dataframe\">\n",
              "  <thead>\n",
              "    <tr style=\"text-align: right;\">\n",
              "      <th></th>\n",
              "      <th>df_resid</th>\n",
              "      <th>ssr</th>\n",
              "      <th>df_diff</th>\n",
              "      <th>ss_diff</th>\n",
              "      <th>F</th>\n",
              "      <th>Pr(&gt;F)</th>\n",
              "    </tr>\n",
              "  </thead>\n",
              "  <tbody>\n",
              "    <tr>\n",
              "      <th>0</th>\n",
              "      <td>18.0</td>\n",
              "      <td>45.568297</td>\n",
              "      <td>0.0</td>\n",
              "      <td>NaN</td>\n",
              "      <td>NaN</td>\n",
              "      <td>NaN</td>\n",
              "    </tr>\n",
              "    <tr>\n",
              "      <th>1</th>\n",
              "      <td>17.0</td>\n",
              "      <td>40.321546</td>\n",
              "      <td>1.0</td>\n",
              "      <td>5.246751</td>\n",
              "      <td>2.212087</td>\n",
              "      <td>0.155246</td>\n",
              "    </tr>\n",
              "  </tbody>\n",
              "</table>\n",
              "</div>"
            ],
            "text/plain": [
              "   df_resid        ssr  df_diff   ss_diff         F    Pr(>F)\n",
              "0      18.0  45.568297      0.0       NaN       NaN       NaN\n",
              "1      17.0  40.321546      1.0  5.246751  2.212087  0.155246"
            ]
          },
          "metadata": {
            "tags": []
          },
          "execution_count": 27
        }
      ]
    },
    {
      "cell_type": "markdown",
      "metadata": {
        "id": "94lC4cOp-eSx",
        "colab_type": "text"
      },
      "source": [
        "**Observation:**\n",
        "- The p-value is not significant, Hence there is no difference between the model_ols_test and model_ols_nointeraction"
      ]
    },
    {
      "cell_type": "code",
      "metadata": {
        "id": "Ud9D6hVN_Hmr",
        "colab_type": "code",
        "outputId": "fbf6c5f8-080f-41bd-ebc5-bb445c264190",
        "colab": {
          "base_uri": "https://localhost:8080/",
          "height": 112
        }
      },
      "source": [
        "anova_lm(model_ols_test,model_ols_testinteraction)"
      ],
      "execution_count": 28,
      "outputs": [
        {
          "output_type": "execute_result",
          "data": {
            "text/html": [
              "<div>\n",
              "<style scoped>\n",
              "    .dataframe tbody tr th:only-of-type {\n",
              "        vertical-align: middle;\n",
              "    }\n",
              "\n",
              "    .dataframe tbody tr th {\n",
              "        vertical-align: top;\n",
              "    }\n",
              "\n",
              "    .dataframe thead th {\n",
              "        text-align: right;\n",
              "    }\n",
              "</style>\n",
              "<table border=\"1\" class=\"dataframe\">\n",
              "  <thead>\n",
              "    <tr style=\"text-align: right;\">\n",
              "      <th></th>\n",
              "      <th>df_resid</th>\n",
              "      <th>ssr</th>\n",
              "      <th>df_diff</th>\n",
              "      <th>ss_diff</th>\n",
              "      <th>F</th>\n",
              "      <th>Pr(&gt;F)</th>\n",
              "    </tr>\n",
              "  </thead>\n",
              "  <tbody>\n",
              "    <tr>\n",
              "      <th>0</th>\n",
              "      <td>18.0</td>\n",
              "      <td>45.568297</td>\n",
              "      <td>0.0</td>\n",
              "      <td>NaN</td>\n",
              "      <td>NaN</td>\n",
              "      <td>NaN</td>\n",
              "    </tr>\n",
              "    <tr>\n",
              "      <th>1</th>\n",
              "      <td>17.0</td>\n",
              "      <td>34.707653</td>\n",
              "      <td>1.0</td>\n",
              "      <td>10.860644</td>\n",
              "      <td>5.319603</td>\n",
              "      <td>0.033949</td>\n",
              "    </tr>\n",
              "  </tbody>\n",
              "</table>\n",
              "</div>"
            ],
            "text/plain": [
              "   df_resid        ssr  df_diff    ss_diff         F    Pr(>F)\n",
              "0      18.0  45.568297      0.0        NaN       NaN       NaN\n",
              "1      17.0  34.707653      1.0  10.860644  5.319603  0.033949"
            ]
          },
          "metadata": {
            "tags": []
          },
          "execution_count": 28
        }
      ]
    },
    {
      "cell_type": "markdown",
      "metadata": {
        "id": "Se8epGlH_PF8",
        "colab_type": "text"
      },
      "source": [
        "**Observation:**\n",
        "- The p-values is significant and hence there is a difference between the model_ols_test and model_ols_testinteraction."
      ]
    },
    {
      "cell_type": "markdown",
      "metadata": {
        "id": "rG08WEXR_e4a",
        "colab_type": "text"
      },
      "source": [
        "# Describing Data"
      ]
    },
    {
      "cell_type": "markdown",
      "metadata": {
        "id": "gJ_w1KVE_kkr",
        "colab_type": "text"
      },
      "source": [
        "## Skewness and Kurtosis"
      ]
    },
    {
      "cell_type": "markdown",
      "metadata": {
        "id": "6RJxOedD_uH6",
        "colab_type": "text"
      },
      "source": [
        "**Skewness:** It is a measure of asymmetry around the mean.\n",
        "\n",
        "**Properties of Skewness:**\n",
        "- Normally Distributed Data, the skewness = 0\n",
        "- Extreme values are equally likely on both sides of the mean.\n",
        "- Symmetry about the mean.\n"
      ]
    },
    {
      "cell_type": "markdown",
      "metadata": {
        "id": "rAMiWhQiAzl-",
        "colab_type": "text"
      },
      "source": [
        "**Positive Skewness**\n",
        "- Consider the Income of Individuals.\n",
        "- Billionaires : positive skew\n",
        "- Outliers are greater than mean more likely than outliers less than mean.\n",
        "- Right Skewed Distribution.\n",
        "- Often seen when there is a lower limit, but not an upper limit."
      ]
    },
    {
      "cell_type": "markdown",
      "metadata": {
        "id": "hJGn-y9HBpCy",
        "colab_type": "text"
      },
      "source": [
        "**Negative Skewness**\n",
        "- Consider losses for storms.\n",
        "- Usually minor storms mean small losses.\n",
        "- Outliers worse than mean more likely than outlier greater than mean."
      ]
    },
    {
      "cell_type": "markdown",
      "metadata": {
        "id": "G2ex6mSyCHtS",
        "colab_type": "text"
      },
      "source": [
        "**Kurtosis:** It is the measure of how often the extreme values(on either side of the mean) occur.\n",
        "\n",
        "**Properties of Kurtosis:**\n",
        "- Normally distributed data is supposed to have a kurtosis of 3\n",
        "- Excess Kurtosis is kurtosis-3\n",
        "- High Kurtosis means extreme values are mostly likely to occur than in normal distribution."
      ]
    }
  ]
}